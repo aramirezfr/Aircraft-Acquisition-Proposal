{
 "cells": [
  {
   "cell_type": "markdown",
   "id": "e0f57004",
   "metadata": {},
   "source": [
    "# Business Understanding"
   ]
  },
  {
   "cell_type": "markdown",
   "id": "ea612ccf",
   "metadata": {},
   "source": [
    "The company is interested in purchasing and operating airplanes for commercial and private enterprises.\n",
    "This data will help the company determine which aircraft are the lowest risk for the company to acquire to start this new business endeavor."
   ]
  },
  {
   "cell_type": "markdown",
   "id": "b1b5dba3",
   "metadata": {},
   "source": [
    "# Data Understanding"
   ]
  },
  {
   "cell_type": "markdown",
   "id": "f67b0017",
   "metadata": {},
   "source": [
    "To get the insights needed I will analyze the National Transportation Safety Board data set that includes data from 1962 to 2023 that includes information about civil aviation accidents and selected incidents in the US and internationally."
   ]
  },
  {
   "cell_type": "markdown",
   "id": "260a61d4",
   "metadata": {},
   "source": [
    "From this dataset I will focus on researching to the safest airplanes to fly as well as the newest generations of plane models that are the most reliable rather than the older options.\n",
    "I will focus my analysis also on the accidents rate to find the planes with a clean flight record."
   ]
  },
  {
   "cell_type": "markdown",
   "id": "770626a5",
   "metadata": {},
   "source": [
    "## Exploratory Data Analysis"
   ]
  },
  {
   "cell_type": "code",
   "execution_count": 435,
   "id": "7dcd6ad0",
   "metadata": {},
   "outputs": [],
   "source": [
    "#Start by importing the necessary libraries to analyze this data\n",
    "import pandas as pd\n",
    "import numpy as py\n",
    "import matplotlib.pyplot as plt\n",
    "%matplotlib inline\n"
   ]
  },
  {
   "cell_type": "code",
   "execution_count": 22,
   "id": "cd8a5549",
   "metadata": {},
   "outputs": [
    {
     "name": "stderr",
     "output_type": "stream",
     "text": [
      "/Users/adrianaramirez/anaconda3/envs/learn-env/lib/python3.8/site-packages/IPython/core/interactiveshell.py:3145: DtypeWarning: Columns (6,7,28) have mixed types.Specify dtype option on import or set low_memory=False.\n",
      "  has_raised = await self.run_ast_nodes(code_ast.body, cell_name,\n"
     ]
    }
   ],
   "source": [
    "#load the necessary csv dataframe\n",
    "df = pd.read_csv('Aviation_Data.csv')"
   ]
  },
  {
   "cell_type": "code",
   "execution_count": 23,
   "id": "51783df8",
   "metadata": {},
   "outputs": [
    {
     "name": "stdout",
     "output_type": "stream",
     "text": [
      "<class 'pandas.core.frame.DataFrame'>\n",
      "RangeIndex: 90348 entries, 0 to 90347\n",
      "Data columns (total 31 columns):\n",
      " #   Column                  Non-Null Count  Dtype  \n",
      "---  ------                  --------------  -----  \n",
      " 0   Event.Id                88889 non-null  object \n",
      " 1   Investigation.Type      90348 non-null  object \n",
      " 2   Accident.Number         88889 non-null  object \n",
      " 3   Event.Date              88889 non-null  object \n",
      " 4   Location                88837 non-null  object \n",
      " 5   Country                 88663 non-null  object \n",
      " 6   Latitude                34382 non-null  object \n",
      " 7   Longitude               34373 non-null  object \n",
      " 8   Airport.Code            50249 non-null  object \n",
      " 9   Airport.Name            52790 non-null  object \n",
      " 10  Injury.Severity         87889 non-null  object \n",
      " 11  Aircraft.damage         85695 non-null  object \n",
      " 12  Aircraft.Category       32287 non-null  object \n",
      " 13  Registration.Number     87572 non-null  object \n",
      " 14  Make                    88826 non-null  object \n",
      " 15  Model                   88797 non-null  object \n",
      " 16  Amateur.Built           88787 non-null  object \n",
      " 17  Number.of.Engines       82805 non-null  float64\n",
      " 18  Engine.Type             81812 non-null  object \n",
      " 19  FAR.Description         32023 non-null  object \n",
      " 20  Schedule                12582 non-null  object \n",
      " 21  Purpose.of.flight       82697 non-null  object \n",
      " 22  Air.carrier             16648 non-null  object \n",
      " 23  Total.Fatal.Injuries    77488 non-null  float64\n",
      " 24  Total.Serious.Injuries  76379 non-null  float64\n",
      " 25  Total.Minor.Injuries    76956 non-null  float64\n",
      " 26  Total.Uninjured         82977 non-null  float64\n",
      " 27  Weather.Condition       84397 non-null  object \n",
      " 28  Broad.phase.of.flight   61724 non-null  object \n",
      " 29  Report.Status           82508 non-null  object \n",
      " 30  Publication.Date        73659 non-null  object \n",
      "dtypes: float64(5), object(26)\n",
      "memory usage: 21.4+ MB\n"
     ]
    },
    {
     "data": {
      "text/plain": [
       "(90348, 31)"
      ]
     },
     "execution_count": 23,
     "metadata": {},
     "output_type": "execute_result"
    }
   ],
   "source": [
    "#time to explore the columns, size and content of the dataframe\n",
    "#90,348 rows x 31 columns\n",
    "df.info()\n",
    "df.shape"
   ]
  },
  {
   "cell_type": "code",
   "execution_count": 24,
   "id": "b7737df3",
   "metadata": {
    "scrolled": false
   },
   "outputs": [
    {
     "data": {
      "text/html": [
       "<div>\n",
       "<style scoped>\n",
       "    .dataframe tbody tr th:only-of-type {\n",
       "        vertical-align: middle;\n",
       "    }\n",
       "\n",
       "    .dataframe tbody tr th {\n",
       "        vertical-align: top;\n",
       "    }\n",
       "\n",
       "    .dataframe thead th {\n",
       "        text-align: right;\n",
       "    }\n",
       "</style>\n",
       "<table border=\"1\" class=\"dataframe\">\n",
       "  <thead>\n",
       "    <tr style=\"text-align: right;\">\n",
       "      <th></th>\n",
       "      <th>Event.Id</th>\n",
       "      <th>Investigation.Type</th>\n",
       "      <th>Accident.Number</th>\n",
       "      <th>Event.Date</th>\n",
       "      <th>Location</th>\n",
       "      <th>Country</th>\n",
       "      <th>Latitude</th>\n",
       "      <th>Longitude</th>\n",
       "      <th>Airport.Code</th>\n",
       "      <th>Airport.Name</th>\n",
       "      <th>...</th>\n",
       "      <th>Purpose.of.flight</th>\n",
       "      <th>Air.carrier</th>\n",
       "      <th>Total.Fatal.Injuries</th>\n",
       "      <th>Total.Serious.Injuries</th>\n",
       "      <th>Total.Minor.Injuries</th>\n",
       "      <th>Total.Uninjured</th>\n",
       "      <th>Weather.Condition</th>\n",
       "      <th>Broad.phase.of.flight</th>\n",
       "      <th>Report.Status</th>\n",
       "      <th>Publication.Date</th>\n",
       "    </tr>\n",
       "  </thead>\n",
       "  <tbody>\n",
       "    <tr>\n",
       "      <th>0</th>\n",
       "      <td>20001218X45444</td>\n",
       "      <td>Accident</td>\n",
       "      <td>SEA87LA080</td>\n",
       "      <td>1948-10-24</td>\n",
       "      <td>MOOSE CREEK, ID</td>\n",
       "      <td>United States</td>\n",
       "      <td>NaN</td>\n",
       "      <td>NaN</td>\n",
       "      <td>NaN</td>\n",
       "      <td>NaN</td>\n",
       "      <td>...</td>\n",
       "      <td>Personal</td>\n",
       "      <td>NaN</td>\n",
       "      <td>2.0</td>\n",
       "      <td>0.0</td>\n",
       "      <td>0.0</td>\n",
       "      <td>0.0</td>\n",
       "      <td>UNK</td>\n",
       "      <td>Cruise</td>\n",
       "      <td>Probable Cause</td>\n",
       "      <td>NaN</td>\n",
       "    </tr>\n",
       "    <tr>\n",
       "      <th>1</th>\n",
       "      <td>20001218X45447</td>\n",
       "      <td>Accident</td>\n",
       "      <td>LAX94LA336</td>\n",
       "      <td>1962-07-19</td>\n",
       "      <td>BRIDGEPORT, CA</td>\n",
       "      <td>United States</td>\n",
       "      <td>NaN</td>\n",
       "      <td>NaN</td>\n",
       "      <td>NaN</td>\n",
       "      <td>NaN</td>\n",
       "      <td>...</td>\n",
       "      <td>Personal</td>\n",
       "      <td>NaN</td>\n",
       "      <td>4.0</td>\n",
       "      <td>0.0</td>\n",
       "      <td>0.0</td>\n",
       "      <td>0.0</td>\n",
       "      <td>UNK</td>\n",
       "      <td>Unknown</td>\n",
       "      <td>Probable Cause</td>\n",
       "      <td>19-09-1996</td>\n",
       "    </tr>\n",
       "    <tr>\n",
       "      <th>2</th>\n",
       "      <td>20061025X01555</td>\n",
       "      <td>Accident</td>\n",
       "      <td>NYC07LA005</td>\n",
       "      <td>1974-08-30</td>\n",
       "      <td>Saltville, VA</td>\n",
       "      <td>United States</td>\n",
       "      <td>36.9222</td>\n",
       "      <td>-81.8781</td>\n",
       "      <td>NaN</td>\n",
       "      <td>NaN</td>\n",
       "      <td>...</td>\n",
       "      <td>Personal</td>\n",
       "      <td>NaN</td>\n",
       "      <td>3.0</td>\n",
       "      <td>NaN</td>\n",
       "      <td>NaN</td>\n",
       "      <td>NaN</td>\n",
       "      <td>IMC</td>\n",
       "      <td>Cruise</td>\n",
       "      <td>Probable Cause</td>\n",
       "      <td>26-02-2007</td>\n",
       "    </tr>\n",
       "  </tbody>\n",
       "</table>\n",
       "<p>3 rows × 31 columns</p>\n",
       "</div>"
      ],
      "text/plain": [
       "         Event.Id Investigation.Type Accident.Number  Event.Date  \\\n",
       "0  20001218X45444           Accident      SEA87LA080  1948-10-24   \n",
       "1  20001218X45447           Accident      LAX94LA336  1962-07-19   \n",
       "2  20061025X01555           Accident      NYC07LA005  1974-08-30   \n",
       "\n",
       "          Location        Country Latitude Longitude Airport.Code  \\\n",
       "0  MOOSE CREEK, ID  United States      NaN       NaN          NaN   \n",
       "1   BRIDGEPORT, CA  United States      NaN       NaN          NaN   \n",
       "2    Saltville, VA  United States  36.9222  -81.8781          NaN   \n",
       "\n",
       "  Airport.Name  ... Purpose.of.flight Air.carrier Total.Fatal.Injuries  \\\n",
       "0          NaN  ...          Personal         NaN                  2.0   \n",
       "1          NaN  ...          Personal         NaN                  4.0   \n",
       "2          NaN  ...          Personal         NaN                  3.0   \n",
       "\n",
       "  Total.Serious.Injuries Total.Minor.Injuries Total.Uninjured  \\\n",
       "0                    0.0                  0.0             0.0   \n",
       "1                    0.0                  0.0             0.0   \n",
       "2                    NaN                  NaN             NaN   \n",
       "\n",
       "  Weather.Condition  Broad.phase.of.flight   Report.Status Publication.Date  \n",
       "0               UNK                 Cruise  Probable Cause              NaN  \n",
       "1               UNK                Unknown  Probable Cause       19-09-1996  \n",
       "2               IMC                 Cruise  Probable Cause       26-02-2007  \n",
       "\n",
       "[3 rows x 31 columns]"
      ]
     },
     "execution_count": 24,
     "metadata": {},
     "output_type": "execute_result"
    }
   ],
   "source": [
    "#getting a first look of how the dataframe looks on the first 3 rows\n",
    "df.head(3)"
   ]
  },
  {
   "cell_type": "markdown",
   "id": "63ac38a9",
   "metadata": {},
   "source": [
    "## Data Cleaning"
   ]
  },
  {
   "cell_type": "code",
   "execution_count": 25,
   "id": "eda99cac",
   "metadata": {
    "scrolled": true
   },
   "outputs": [
    {
     "data": {
      "text/html": [
       "<div>\n",
       "<style scoped>\n",
       "    .dataframe tbody tr th:only-of-type {\n",
       "        vertical-align: middle;\n",
       "    }\n",
       "\n",
       "    .dataframe tbody tr th {\n",
       "        vertical-align: top;\n",
       "    }\n",
       "\n",
       "    .dataframe thead th {\n",
       "        text-align: right;\n",
       "    }\n",
       "</style>\n",
       "<table border=\"1\" class=\"dataframe\">\n",
       "  <thead>\n",
       "    <tr style=\"text-align: right;\">\n",
       "      <th></th>\n",
       "      <th>Event.Id</th>\n",
       "      <th>Investigation.Type</th>\n",
       "      <th>Accident.Number</th>\n",
       "      <th>Event.Date</th>\n",
       "      <th>Location</th>\n",
       "      <th>Country</th>\n",
       "      <th>Latitude</th>\n",
       "      <th>Longitude</th>\n",
       "      <th>Airport.Code</th>\n",
       "      <th>Airport.Name</th>\n",
       "      <th>...</th>\n",
       "      <th>Purpose.of.flight</th>\n",
       "      <th>Air.carrier</th>\n",
       "      <th>Total.Fatal.Injuries</th>\n",
       "      <th>Total.Serious.Injuries</th>\n",
       "      <th>Total.Minor.Injuries</th>\n",
       "      <th>Total.Uninjured</th>\n",
       "      <th>Weather.Condition</th>\n",
       "      <th>Broad.phase.of.flight</th>\n",
       "      <th>Report.Status</th>\n",
       "      <th>Publication.Date</th>\n",
       "    </tr>\n",
       "  </thead>\n",
       "  <tbody>\n",
       "    <tr>\n",
       "      <th>64030</th>\n",
       "      <td>NaN</td>\n",
       "      <td>25-09-2020</td>\n",
       "      <td>NaN</td>\n",
       "      <td>NaN</td>\n",
       "      <td>NaN</td>\n",
       "      <td>NaN</td>\n",
       "      <td>NaN</td>\n",
       "      <td>NaN</td>\n",
       "      <td>NaN</td>\n",
       "      <td>NaN</td>\n",
       "      <td>...</td>\n",
       "      <td>NaN</td>\n",
       "      <td>NaN</td>\n",
       "      <td>NaN</td>\n",
       "      <td>NaN</td>\n",
       "      <td>NaN</td>\n",
       "      <td>NaN</td>\n",
       "      <td>NaN</td>\n",
       "      <td>NaN</td>\n",
       "      <td>NaN</td>\n",
       "      <td>NaN</td>\n",
       "    </tr>\n",
       "    <tr>\n",
       "      <th>64050</th>\n",
       "      <td>NaN</td>\n",
       "      <td>25-09-2020</td>\n",
       "      <td>NaN</td>\n",
       "      <td>NaN</td>\n",
       "      <td>NaN</td>\n",
       "      <td>NaN</td>\n",
       "      <td>NaN</td>\n",
       "      <td>NaN</td>\n",
       "      <td>NaN</td>\n",
       "      <td>NaN</td>\n",
       "      <td>...</td>\n",
       "      <td>NaN</td>\n",
       "      <td>NaN</td>\n",
       "      <td>NaN</td>\n",
       "      <td>NaN</td>\n",
       "      <td>NaN</td>\n",
       "      <td>NaN</td>\n",
       "      <td>NaN</td>\n",
       "      <td>NaN</td>\n",
       "      <td>NaN</td>\n",
       "      <td>NaN</td>\n",
       "    </tr>\n",
       "    <tr>\n",
       "      <th>64052</th>\n",
       "      <td>NaN</td>\n",
       "      <td>25-09-2020</td>\n",
       "      <td>NaN</td>\n",
       "      <td>NaN</td>\n",
       "      <td>NaN</td>\n",
       "      <td>NaN</td>\n",
       "      <td>NaN</td>\n",
       "      <td>NaN</td>\n",
       "      <td>NaN</td>\n",
       "      <td>NaN</td>\n",
       "      <td>...</td>\n",
       "      <td>NaN</td>\n",
       "      <td>NaN</td>\n",
       "      <td>NaN</td>\n",
       "      <td>NaN</td>\n",
       "      <td>NaN</td>\n",
       "      <td>NaN</td>\n",
       "      <td>NaN</td>\n",
       "      <td>NaN</td>\n",
       "      <td>NaN</td>\n",
       "      <td>NaN</td>\n",
       "    </tr>\n",
       "    <tr>\n",
       "      <th>64388</th>\n",
       "      <td>NaN</td>\n",
       "      <td>25-09-2020</td>\n",
       "      <td>NaN</td>\n",
       "      <td>NaN</td>\n",
       "      <td>NaN</td>\n",
       "      <td>NaN</td>\n",
       "      <td>NaN</td>\n",
       "      <td>NaN</td>\n",
       "      <td>NaN</td>\n",
       "      <td>NaN</td>\n",
       "      <td>...</td>\n",
       "      <td>NaN</td>\n",
       "      <td>NaN</td>\n",
       "      <td>NaN</td>\n",
       "      <td>NaN</td>\n",
       "      <td>NaN</td>\n",
       "      <td>NaN</td>\n",
       "      <td>NaN</td>\n",
       "      <td>NaN</td>\n",
       "      <td>NaN</td>\n",
       "      <td>NaN</td>\n",
       "    </tr>\n",
       "    <tr>\n",
       "      <th>64541</th>\n",
       "      <td>NaN</td>\n",
       "      <td>25-09-2020</td>\n",
       "      <td>NaN</td>\n",
       "      <td>NaN</td>\n",
       "      <td>NaN</td>\n",
       "      <td>NaN</td>\n",
       "      <td>NaN</td>\n",
       "      <td>NaN</td>\n",
       "      <td>NaN</td>\n",
       "      <td>NaN</td>\n",
       "      <td>...</td>\n",
       "      <td>NaN</td>\n",
       "      <td>NaN</td>\n",
       "      <td>NaN</td>\n",
       "      <td>NaN</td>\n",
       "      <td>NaN</td>\n",
       "      <td>NaN</td>\n",
       "      <td>NaN</td>\n",
       "      <td>NaN</td>\n",
       "      <td>NaN</td>\n",
       "      <td>NaN</td>\n",
       "    </tr>\n",
       "    <tr>\n",
       "      <th>...</th>\n",
       "      <td>...</td>\n",
       "      <td>...</td>\n",
       "      <td>...</td>\n",
       "      <td>...</td>\n",
       "      <td>...</td>\n",
       "      <td>...</td>\n",
       "      <td>...</td>\n",
       "      <td>...</td>\n",
       "      <td>...</td>\n",
       "      <td>...</td>\n",
       "      <td>...</td>\n",
       "      <td>...</td>\n",
       "      <td>...</td>\n",
       "      <td>...</td>\n",
       "      <td>...</td>\n",
       "      <td>...</td>\n",
       "      <td>...</td>\n",
       "      <td>...</td>\n",
       "      <td>...</td>\n",
       "      <td>...</td>\n",
       "      <td>...</td>\n",
       "    </tr>\n",
       "    <tr>\n",
       "      <th>90004</th>\n",
       "      <td>NaN</td>\n",
       "      <td>15-12-2022</td>\n",
       "      <td>NaN</td>\n",
       "      <td>NaN</td>\n",
       "      <td>NaN</td>\n",
       "      <td>NaN</td>\n",
       "      <td>NaN</td>\n",
       "      <td>NaN</td>\n",
       "      <td>NaN</td>\n",
       "      <td>NaN</td>\n",
       "      <td>...</td>\n",
       "      <td>NaN</td>\n",
       "      <td>NaN</td>\n",
       "      <td>NaN</td>\n",
       "      <td>NaN</td>\n",
       "      <td>NaN</td>\n",
       "      <td>NaN</td>\n",
       "      <td>NaN</td>\n",
       "      <td>NaN</td>\n",
       "      <td>NaN</td>\n",
       "      <td>NaN</td>\n",
       "    </tr>\n",
       "    <tr>\n",
       "      <th>90010</th>\n",
       "      <td>NaN</td>\n",
       "      <td>15-12-2022</td>\n",
       "      <td>NaN</td>\n",
       "      <td>NaN</td>\n",
       "      <td>NaN</td>\n",
       "      <td>NaN</td>\n",
       "      <td>NaN</td>\n",
       "      <td>NaN</td>\n",
       "      <td>NaN</td>\n",
       "      <td>NaN</td>\n",
       "      <td>...</td>\n",
       "      <td>NaN</td>\n",
       "      <td>NaN</td>\n",
       "      <td>NaN</td>\n",
       "      <td>NaN</td>\n",
       "      <td>NaN</td>\n",
       "      <td>NaN</td>\n",
       "      <td>NaN</td>\n",
       "      <td>NaN</td>\n",
       "      <td>NaN</td>\n",
       "      <td>NaN</td>\n",
       "    </tr>\n",
       "    <tr>\n",
       "      <th>90031</th>\n",
       "      <td>NaN</td>\n",
       "      <td>15-12-2022</td>\n",
       "      <td>NaN</td>\n",
       "      <td>NaN</td>\n",
       "      <td>NaN</td>\n",
       "      <td>NaN</td>\n",
       "      <td>NaN</td>\n",
       "      <td>NaN</td>\n",
       "      <td>NaN</td>\n",
       "      <td>NaN</td>\n",
       "      <td>...</td>\n",
       "      <td>NaN</td>\n",
       "      <td>NaN</td>\n",
       "      <td>NaN</td>\n",
       "      <td>NaN</td>\n",
       "      <td>NaN</td>\n",
       "      <td>NaN</td>\n",
       "      <td>NaN</td>\n",
       "      <td>NaN</td>\n",
       "      <td>NaN</td>\n",
       "      <td>NaN</td>\n",
       "    </tr>\n",
       "    <tr>\n",
       "      <th>90090</th>\n",
       "      <td>NaN</td>\n",
       "      <td>20-12-2022</td>\n",
       "      <td>NaN</td>\n",
       "      <td>NaN</td>\n",
       "      <td>NaN</td>\n",
       "      <td>NaN</td>\n",
       "      <td>NaN</td>\n",
       "      <td>NaN</td>\n",
       "      <td>NaN</td>\n",
       "      <td>NaN</td>\n",
       "      <td>...</td>\n",
       "      <td>NaN</td>\n",
       "      <td>NaN</td>\n",
       "      <td>NaN</td>\n",
       "      <td>NaN</td>\n",
       "      <td>NaN</td>\n",
       "      <td>NaN</td>\n",
       "      <td>NaN</td>\n",
       "      <td>NaN</td>\n",
       "      <td>NaN</td>\n",
       "      <td>NaN</td>\n",
       "    </tr>\n",
       "    <tr>\n",
       "      <th>90097</th>\n",
       "      <td>NaN</td>\n",
       "      <td>20-12-2022</td>\n",
       "      <td>NaN</td>\n",
       "      <td>NaN</td>\n",
       "      <td>NaN</td>\n",
       "      <td>NaN</td>\n",
       "      <td>NaN</td>\n",
       "      <td>NaN</td>\n",
       "      <td>NaN</td>\n",
       "      <td>NaN</td>\n",
       "      <td>...</td>\n",
       "      <td>NaN</td>\n",
       "      <td>NaN</td>\n",
       "      <td>NaN</td>\n",
       "      <td>NaN</td>\n",
       "      <td>NaN</td>\n",
       "      <td>NaN</td>\n",
       "      <td>NaN</td>\n",
       "      <td>NaN</td>\n",
       "      <td>NaN</td>\n",
       "      <td>NaN</td>\n",
       "    </tr>\n",
       "  </tbody>\n",
       "</table>\n",
       "<p>1447 rows × 31 columns</p>\n",
       "</div>"
      ],
      "text/plain": [
       "      Event.Id Investigation.Type Accident.Number Event.Date Location Country  \\\n",
       "64030      NaN         25-09-2020             NaN        NaN      NaN     NaN   \n",
       "64050      NaN         25-09-2020             NaN        NaN      NaN     NaN   \n",
       "64052      NaN         25-09-2020             NaN        NaN      NaN     NaN   \n",
       "64388      NaN         25-09-2020             NaN        NaN      NaN     NaN   \n",
       "64541      NaN         25-09-2020             NaN        NaN      NaN     NaN   \n",
       "...        ...                ...             ...        ...      ...     ...   \n",
       "90004      NaN         15-12-2022             NaN        NaN      NaN     NaN   \n",
       "90010      NaN         15-12-2022             NaN        NaN      NaN     NaN   \n",
       "90031      NaN         15-12-2022             NaN        NaN      NaN     NaN   \n",
       "90090      NaN         20-12-2022             NaN        NaN      NaN     NaN   \n",
       "90097      NaN         20-12-2022             NaN        NaN      NaN     NaN   \n",
       "\n",
       "      Latitude Longitude Airport.Code Airport.Name  ... Purpose.of.flight  \\\n",
       "64030      NaN       NaN          NaN          NaN  ...               NaN   \n",
       "64050      NaN       NaN          NaN          NaN  ...               NaN   \n",
       "64052      NaN       NaN          NaN          NaN  ...               NaN   \n",
       "64388      NaN       NaN          NaN          NaN  ...               NaN   \n",
       "64541      NaN       NaN          NaN          NaN  ...               NaN   \n",
       "...        ...       ...          ...          ...  ...               ...   \n",
       "90004      NaN       NaN          NaN          NaN  ...               NaN   \n",
       "90010      NaN       NaN          NaN          NaN  ...               NaN   \n",
       "90031      NaN       NaN          NaN          NaN  ...               NaN   \n",
       "90090      NaN       NaN          NaN          NaN  ...               NaN   \n",
       "90097      NaN       NaN          NaN          NaN  ...               NaN   \n",
       "\n",
       "      Air.carrier Total.Fatal.Injuries Total.Serious.Injuries  \\\n",
       "64030         NaN                  NaN                    NaN   \n",
       "64050         NaN                  NaN                    NaN   \n",
       "64052         NaN                  NaN                    NaN   \n",
       "64388         NaN                  NaN                    NaN   \n",
       "64541         NaN                  NaN                    NaN   \n",
       "...           ...                  ...                    ...   \n",
       "90004         NaN                  NaN                    NaN   \n",
       "90010         NaN                  NaN                    NaN   \n",
       "90031         NaN                  NaN                    NaN   \n",
       "90090         NaN                  NaN                    NaN   \n",
       "90097         NaN                  NaN                    NaN   \n",
       "\n",
       "      Total.Minor.Injuries Total.Uninjured Weather.Condition  \\\n",
       "64030                  NaN             NaN               NaN   \n",
       "64050                  NaN             NaN               NaN   \n",
       "64052                  NaN             NaN               NaN   \n",
       "64388                  NaN             NaN               NaN   \n",
       "64541                  NaN             NaN               NaN   \n",
       "...                    ...             ...               ...   \n",
       "90004                  NaN             NaN               NaN   \n",
       "90010                  NaN             NaN               NaN   \n",
       "90031                  NaN             NaN               NaN   \n",
       "90090                  NaN             NaN               NaN   \n",
       "90097                  NaN             NaN               NaN   \n",
       "\n",
       "       Broad.phase.of.flight Report.Status Publication.Date  \n",
       "64030                    NaN           NaN              NaN  \n",
       "64050                    NaN           NaN              NaN  \n",
       "64052                    NaN           NaN              NaN  \n",
       "64388                    NaN           NaN              NaN  \n",
       "64541                    NaN           NaN              NaN  \n",
       "...                      ...           ...              ...  \n",
       "90004                    NaN           NaN              NaN  \n",
       "90010                    NaN           NaN              NaN  \n",
       "90031                    NaN           NaN              NaN  \n",
       "90090                    NaN           NaN              NaN  \n",
       "90097                    NaN           NaN              NaN  \n",
       "\n",
       "[1447 rows x 31 columns]"
      ]
     },
     "execution_count": 25,
     "metadata": {},
     "output_type": "execute_result"
    }
   ],
   "source": [
    "#looking for duplicates and inspecting them\n",
    "df.duplicated().value_counts() \n",
    "df[df.duplicated(keep=False)].sort_values(by='Event.Id')"
   ]
  },
  {
   "cell_type": "code",
   "execution_count": 315,
   "id": "7cd2eae1",
   "metadata": {
    "scrolled": true
   },
   "outputs": [
    {
     "data": {
      "text/plain": [
       "(88889, 32)"
      ]
     },
     "execution_count": 315,
     "metadata": {},
     "output_type": "execute_result"
    }
   ],
   "source": [
    "#removing duplicates\n",
    "df=df.drop_duplicates()\n",
    "df.shape  #1,447 duplicated entries removed"
   ]
  },
  {
   "cell_type": "code",
   "execution_count": 86,
   "id": "0997ebb1",
   "metadata": {},
   "outputs": [
    {
     "data": {
      "text/plain": [
       "0       1948-10-24\n",
       "1       1962-07-19\n",
       "2       1974-08-30\n",
       "3       1977-06-19\n",
       "4       1979-02-08\n",
       "           ...    \n",
       "90343   2022-12-26\n",
       "90344   2022-12-26\n",
       "90345   2022-12-26\n",
       "90346   2022-12-26\n",
       "90347   2022-12-29\n",
       "Name: Event.Date, Length: 88958, dtype: datetime64[ns]"
      ]
     },
     "execution_count": 86,
     "metadata": {},
     "output_type": "execute_result"
    }
   ],
   "source": [
    "#changing the date to date time, this will help look for the \n",
    "#newer aircrafts\n",
    "df['Event.Date']=pd.to_datetime(df['Event.Date'])\n",
    "df['Event.Date']"
   ]
  },
  {
   "cell_type": "code",
   "execution_count": 87,
   "id": "77e04311",
   "metadata": {},
   "outputs": [],
   "source": [
    "df['Event.Date']=df['Event.Date'].dt.strftime('%d-%m-%Y')"
   ]
  },
  {
   "cell_type": "code",
   "execution_count": 73,
   "id": "cc8a3404",
   "metadata": {},
   "outputs": [
    {
     "data": {
      "text/plain": [
       "Event.Id                     69\n",
       "Investigation.Type            0\n",
       "Accident.Number              69\n",
       "Event.Date                   69\n",
       "Location                    121\n",
       "Country                     295\n",
       "Latitude                  54576\n",
       "Longitude                 54585\n",
       "Airport.Code              38709\n",
       "Airport.Name              36168\n",
       "Injury.Severity            1069\n",
       "Aircraft.damage            3263\n",
       "Aircraft.Category         56671\n",
       "Registration.Number        1386\n",
       "Make                        132\n",
       "Model                       161\n",
       "Amateur.Built               171\n",
       "Number.of.Engines          6153\n",
       "Engine.Type                7146\n",
       "FAR.Description           56935\n",
       "Schedule                  76376\n",
       "Purpose.of.flight          6261\n",
       "Air.carrier               72310\n",
       "Total.Fatal.Injuries      11470\n",
       "Total.Serious.Injuries    12579\n",
       "Total.Minor.Injuries      12002\n",
       "Total.Uninjured            5981\n",
       "Weather.Condition          4561\n",
       "Broad.phase.of.flight     27234\n",
       "Report.Status              6450\n",
       "Publication.Date          15299\n",
       "dtype: int64"
      ]
     },
     "execution_count": 73,
     "metadata": {},
     "output_type": "execute_result"
    }
   ],
   "source": [
    "#determine the quantity of na in the dataframe per column\n",
    "df.isna().sum()"
   ]
  },
  {
   "cell_type": "markdown",
   "id": "57bbef22",
   "metadata": {},
   "source": [
    "Given that there are too many na values, I will create a subset with the necessaty columns for my analysis."
   ]
  },
  {
   "cell_type": "code",
   "execution_count": 92,
   "id": "a22707e5",
   "metadata": {},
   "outputs": [],
   "source": [
    "#extracting only the year from the date\n",
    "df['Year']=df['Event.Date'].str[-4:]"
   ]
  },
  {
   "cell_type": "code",
   "execution_count": 96,
   "id": "0c60580b",
   "metadata": {},
   "outputs": [],
   "source": [
    "#dropping all the na from the year column to only have info for the events with dates\n",
    "df=df.dropna(subset=['Year'])"
   ]
  },
  {
   "cell_type": "code",
   "execution_count": 101,
   "id": "86cdab8b",
   "metadata": {},
   "outputs": [],
   "source": [
    "df=df.loc[df['Year'].notna()]"
   ]
  },
  {
   "cell_type": "markdown",
   "id": "8d38ed8e",
   "metadata": {},
   "source": [
    "To start the deep cleaning of this data I decided to create a subset with only the main columns I need to focus to analyze the data for the outcome needed."
   ]
  },
  {
   "cell_type": "code",
   "execution_count": 254,
   "id": "c947a886",
   "metadata": {},
   "outputs": [],
   "source": [
    "#Subsetting: Year, Country, Injury.Severity, Aircraft.Damage, \n",
    "#Aircraft Category, Make, Model, Number of Engines, Engine Type, \n",
    "#Purpose of Flight, Total Fatal Injuries, Total Serious Injuries, \n",
    "#Total Minor Injuries, Total Uninjured, Weather Condition\n",
    "\n",
    "subset = df[['Year', 'Country','Injury.Severity','Aircraft.damage', 'Aircraft.Category', 'Make', 'Model', 'Number.of.Engines', 'Engine.Type','Purpose.of.flight', 'Total.Fatal.Injuries', 'Total.Serious.Injuries','Total.Minor.Injuries', 'Total.Uninjured', 'Weather.Condition']]"
   ]
  },
  {
   "cell_type": "markdown",
   "id": "e109bc0b",
   "metadata": {},
   "source": [
    "Subsetting only information from 1999 to 2022."
   ]
  },
  {
   "cell_type": "code",
   "execution_count": 264,
   "id": "eeceeecb",
   "metadata": {},
   "outputs": [
    {
     "name": "stderr",
     "output_type": "stream",
     "text": [
      "<ipython-input-264-2b498d7bfaab>:1: UserWarning: Boolean Series key will be reindexed to match DataFrame index.\n",
      "  subset=subset[(df['Year']>=1999)&(df['Year']<=2022)]\n"
     ]
    }
   ],
   "source": [
    "subset=subset[(df['Year']>=1999)&(df['Year']<=2022)]"
   ]
  },
  {
   "cell_type": "code",
   "execution_count": 266,
   "id": "c996ba2e",
   "metadata": {},
   "outputs": [],
   "source": [
    "#Adding the title.format to the columns so they match with other values\n",
    "subset['Make']=subset['Make'].str.title()\n",
    "subset['Country']=subset['Country'].str.title()"
   ]
  },
  {
   "cell_type": "code",
   "execution_count": 366,
   "id": "d5626bac",
   "metadata": {},
   "outputs": [],
   "source": [
    "#drop the nas here because we need rows that contain this information\n",
    "subset = subset.dropna(subset=['Aircraft.damage','Total.Uninjured','Total.Minor.Injuries','Total.Fatal.Injuries','Total.Serious.Injuries','Country','Injury.Severity', 'Make', 'Model' ])"
   ]
  },
  {
   "cell_type": "code",
   "execution_count": 324,
   "id": "f0fc418a",
   "metadata": {},
   "outputs": [],
   "source": [
    "#all of these makes of aircrafts need to have the category of airplane\n",
    "subset.loc[subset['Make'] == ( 'Lake', 'Mooney', 'Raytheon','Lockheed','Bombardier','Douglas','Embraer','Piper','Cessna', 'Avions Max Holste', 'Beech', 'Air Tractor', 'Grumman American Avn. Corp.', 'Airbus', 'Boeing'), 'Aircraft.Category'] = 'Airplane'"
   ]
  },
  {
   "cell_type": "code",
   "execution_count": 343,
   "id": "1140dcdd",
   "metadata": {},
   "outputs": [],
   "source": [
    "#changing each 'make' of aircraft to the category airplane\n",
    "subset.loc[subset['Make'] == ('Grumman American Avn.'), 'Aircraft.Category'] = 'Airplane'\n",
    "subset.loc[subset['Make'] == ('Mooney'), 'Aircraft.Category'] = 'Airplane'\n",
    "subset.loc[subset['Make'] == ('Luscombe'), 'Aircraft.Category'] = 'Airplane'\n",
    "subset.loc[subset['Make'] == ('Rockwell'), 'Aircraft.Category'] = 'Airplane'\n",
    "subset.loc[subset['Make'] == ('Lake'), 'Aircraft.Category'] = 'Airplane'\n",
    "subset.loc[subset['Make'] == ('Gulfstream'), 'Aircraft.Category'] = 'Airplane'"
   ]
  },
  {
   "cell_type": "code",
   "execution_count": 349,
   "id": "9eff184c",
   "metadata": {},
   "outputs": [],
   "source": [
    "#dropping the nas from category of aircraft\n",
    "subset=subset.dropna(subset=['Aircraft.Category'])"
   ]
  },
  {
   "cell_type": "code",
   "execution_count": 288,
   "id": "58bdf924",
   "metadata": {},
   "outputs": [],
   "source": [
    "#removing the country 'Un' from the dataframe\n",
    "subset=subset[subset['Country']!='Un']"
   ]
  },
  {
   "cell_type": "code",
   "execution_count": 350,
   "id": "139ff4a7",
   "metadata": {
    "scrolled": true
   },
   "outputs": [
    {
     "data": {
      "text/html": [
       "<div>\n",
       "<style scoped>\n",
       "    .dataframe tbody tr th:only-of-type {\n",
       "        vertical-align: middle;\n",
       "    }\n",
       "\n",
       "    .dataframe tbody tr th {\n",
       "        vertical-align: top;\n",
       "    }\n",
       "\n",
       "    .dataframe thead th {\n",
       "        text-align: right;\n",
       "    }\n",
       "</style>\n",
       "<table border=\"1\" class=\"dataframe\">\n",
       "  <thead>\n",
       "    <tr style=\"text-align: right;\">\n",
       "      <th></th>\n",
       "      <th>Year</th>\n",
       "      <th>Country</th>\n",
       "      <th>Injury.Severity</th>\n",
       "      <th>Aircraft.damage</th>\n",
       "      <th>Aircraft.Category</th>\n",
       "      <th>Make</th>\n",
       "      <th>Model</th>\n",
       "      <th>Number.of.Engines</th>\n",
       "      <th>Engine.Type</th>\n",
       "      <th>Purpose.of.flight</th>\n",
       "      <th>Total.Fatal.Injuries</th>\n",
       "      <th>Total.Serious.Injuries</th>\n",
       "      <th>Total.Minor.Injuries</th>\n",
       "      <th>Total.Uninjured</th>\n",
       "      <th>Weather.Condition</th>\n",
       "    </tr>\n",
       "  </thead>\n",
       "  <tbody>\n",
       "  </tbody>\n",
       "</table>\n",
       "</div>"
      ],
      "text/plain": [
       "Empty DataFrame\n",
       "Columns: [Year, Country, Injury.Severity, Aircraft.damage, Aircraft.Category, Make, Model, Number.of.Engines, Engine.Type, Purpose.of.flight, Total.Fatal.Injuries, Total.Serious.Injuries, Total.Minor.Injuries, Total.Uninjured, Weather.Condition]\n",
       "Index: []"
      ]
     },
     "execution_count": 350,
     "metadata": {},
     "output_type": "execute_result"
    }
   ],
   "source": [
    "#na_rows = subset[subset['Aircraft.Category'].isna()]\n",
    "#na_rows"
   ]
  },
  {
   "cell_type": "code",
   "execution_count": 351,
   "id": "c4ef09d8",
   "metadata": {},
   "outputs": [
    {
     "data": {
      "text/plain": [
       "Year                         0\n",
       "Country                      0\n",
       "Injury.Severity              0\n",
       "Aircraft.damage           1030\n",
       "Aircraft.Category            0\n",
       "Make                         0\n",
       "Model                        0\n",
       "Number.of.Engines         2818\n",
       "Engine.Type               4698\n",
       "Purpose.of.flight         3444\n",
       "Total.Fatal.Injuries         0\n",
       "Total.Serious.Injuries       0\n",
       "Total.Minor.Injuries         0\n",
       "Total.Uninjured              0\n",
       "Weather.Condition         2958\n",
       "dtype: int64"
      ]
     },
     "execution_count": 351,
     "metadata": {},
     "output_type": "execute_result"
    }
   ],
   "source": [
    "subset.isna().sum()"
   ]
  },
  {
   "cell_type": "code",
   "execution_count": 360,
   "id": "bba41272",
   "metadata": {},
   "outputs": [
    {
     "name": "stderr",
     "output_type": "stream",
     "text": [
      "<ipython-input-360-9e673ca99e24>:1: SettingWithCopyWarning: \n",
      "A value is trying to be set on a copy of a slice from a DataFrame.\n",
      "Try using .loc[row_indexer,col_indexer] = value instead\n",
      "\n",
      "See the caveats in the documentation: https://pandas.pydata.org/pandas-docs/stable/user_guide/indexing.html#returning-a-view-versus-a-copy\n",
      "  subset['Injury.Severity']= subset['Injury.Severity'].replace(to_replace=r'^Fatal.*', value='Fatal', regex=True)\n"
     ]
    }
   ],
   "source": [
    "subset['Injury.Severity']= subset['Injury.Severity'].replace(to_replace=r'^Fatal.*', value='Fatal', regex=True)"
   ]
  },
  {
   "cell_type": "code",
   "execution_count": 362,
   "id": "5e809fff",
   "metadata": {
    "scrolled": false
   },
   "outputs": [
    {
     "name": "stderr",
     "output_type": "stream",
     "text": [
      "<ipython-input-362-6d0eb0e431e9>:1: SettingWithCopyWarning: \n",
      "A value is trying to be set on a copy of a slice from a DataFrame.\n",
      "Try using .loc[row_indexer,col_indexer] = value instead\n",
      "\n",
      "See the caveats in the documentation: https://pandas.pydata.org/pandas-docs/stable/user_guide/indexing.html#returning-a-view-versus-a-copy\n",
      "  subset['Injury.Severity']=subset['Injury.Severity'].replace(to_replace='Incident', value='Minor', regex=True)\n"
     ]
    }
   ],
   "source": [
    "subset['Injury.Severity']=subset['Injury.Severity'].replace(to_replace='Incident', value='Minor', regex=True)"
   ]
  },
  {
   "cell_type": "code",
   "execution_count": 367,
   "id": "547b7de8",
   "metadata": {},
   "outputs": [
    {
     "data": {
      "text/plain": [
       "array(['Substantial', 'Destroyed', 'Minor', 'Unknown'], dtype=object)"
      ]
     },
     "execution_count": 367,
     "metadata": {},
     "output_type": "execute_result"
    }
   ],
   "source": [
    "subset['Aircraft.damage'].unique()"
   ]
  },
  {
   "cell_type": "code",
   "execution_count": 356,
   "id": "00fe16a4",
   "metadata": {},
   "outputs": [],
   "source": [
    "#Dropping the value 'Unavailable' form injury severity\n",
    "subset=subset[subset['Injury.Severity']!='Unavailable']"
   ]
  },
  {
   "cell_type": "code",
   "execution_count": 374,
   "id": "780ccc98",
   "metadata": {},
   "outputs": [],
   "source": [
    "subset=subset[subset['Aircraft.damage']!='Unknown']"
   ]
  },
  {
   "cell_type": "code",
   "execution_count": 375,
   "id": "3dae279b",
   "metadata": {},
   "outputs": [
    {
     "data": {
      "text/plain": [
       "Substantial    21427\n",
       "Destroyed       3241\n",
       "Minor            749\n",
       "Name: Aircraft.damage, dtype: int64"
      ]
     },
     "execution_count": 375,
     "metadata": {},
     "output_type": "execute_result"
    }
   ],
   "source": [
    "subset['Aircraft.damage'].value_counts()"
   ]
  },
  {
   "cell_type": "code",
   "execution_count": 387,
   "id": "aa60ad39",
   "metadata": {},
   "outputs": [
    {
     "data": {
      "text/plain": [
       "array([1., 2., 3., 4., 0., 8., 6.])"
      ]
     },
     "execution_count": 387,
     "metadata": {},
     "output_type": "execute_result"
    }
   ],
   "source": [
    "subset['Number.of.Engines'].value_counts()\n",
    "subset['Number.of.Engines'].unique()"
   ]
  },
  {
   "cell_type": "code",
   "execution_count": 386,
   "id": "adc219dc",
   "metadata": {
    "scrolled": true
   },
   "outputs": [
    {
     "name": "stderr",
     "output_type": "stream",
     "text": [
      "<ipython-input-386-4f1b363be856>:2: SettingWithCopyWarning: \n",
      "A value is trying to be set on a copy of a slice from a DataFrame.\n",
      "Try using .loc[row_indexer,col_indexer] = value instead\n",
      "\n",
      "See the caveats in the documentation: https://pandas.pydata.org/pandas-docs/stable/user_guide/indexing.html#returning-a-view-versus-a-copy\n",
      "  subset['Number.of.Engines']=subset['Number.of.Engines'].fillna(1.)\n"
     ]
    }
   ],
   "source": [
    "#given that the most common number of engine is one I will replace the nan in this column with 1\n",
    "subset['Number.of.Engines']=subset['Number.of.Engines'].fillna(1.)"
   ]
  },
  {
   "cell_type": "code",
   "execution_count": 391,
   "id": "dab785ac",
   "metadata": {
    "scrolled": true
   },
   "outputs": [
    {
     "name": "stderr",
     "output_type": "stream",
     "text": [
      "<ipython-input-391-b4b8bf6b835b>:1: SettingWithCopyWarning: \n",
      "A value is trying to be set on a copy of a slice from a DataFrame.\n",
      "Try using .loc[row_indexer,col_indexer] = value instead\n",
      "\n",
      "See the caveats in the documentation: https://pandas.pydata.org/pandas-docs/stable/user_guide/indexing.html#returning-a-view-versus-a-copy\n",
      "  subset['Engine.Type']=subset['Engine.Type'].fillna('Reciprocating')\n"
     ]
    }
   ],
   "source": [
    "subset['Engine.Type']=subset['Engine.Type'].fillna('Reciprocating')"
   ]
  },
  {
   "cell_type": "code",
   "execution_count": 393,
   "id": "4d538d5b",
   "metadata": {},
   "outputs": [],
   "source": [
    "subset=subset[subset['Engine.Type']!= 'Unknown']\n",
    "subset=subset[subset['Engine.Type']!= 'None']\n",
    "subset=subset[subset['Engine.Type']!= 'NONE']"
   ]
  },
  {
   "cell_type": "code",
   "execution_count": 398,
   "id": "f31fc695",
   "metadata": {},
   "outputs": [],
   "source": [
    "subset['Purpose.of.flight']=subset['Purpose.of.flight'].fillna('Unknown')"
   ]
  },
  {
   "cell_type": "code",
   "execution_count": 401,
   "id": "9674e836",
   "metadata": {},
   "outputs": [],
   "source": [
    "subset['Weather.Condition']=subset['Weather.Condition'].str.upper()"
   ]
  },
  {
   "cell_type": "code",
   "execution_count": 405,
   "id": "7490a95d",
   "metadata": {},
   "outputs": [],
   "source": [
    "subset['Weather.Condition'].value_counts()\n",
    "subset['Weather.Condition']=subset['Weather.Condition'].fillna('UNK')"
   ]
  },
  {
   "cell_type": "code",
   "execution_count": 406,
   "id": "41519f02",
   "metadata": {
    "scrolled": true
   },
   "outputs": [
    {
     "data": {
      "text/plain": [
       "Year                      0\n",
       "Country                   0\n",
       "Injury.Severity           0\n",
       "Aircraft.damage           0\n",
       "Aircraft.Category         0\n",
       "Make                      0\n",
       "Model                     0\n",
       "Number.of.Engines         0\n",
       "Engine.Type               0\n",
       "Purpose.of.flight         0\n",
       "Total.Fatal.Injuries      0\n",
       "Total.Serious.Injuries    0\n",
       "Total.Minor.Injuries      0\n",
       "Total.Uninjured           0\n",
       "Weather.Condition         0\n",
       "dtype: int64"
      ]
     },
     "execution_count": 406,
     "metadata": {},
     "output_type": "execute_result"
    }
   ],
   "source": [
    "subset.isna().sum()"
   ]
  },
  {
   "cell_type": "code",
   "execution_count": 432,
   "id": "3dd7f1b9",
   "metadata": {},
   "outputs": [
    {
     "data": {
      "text/plain": [
       "(18956, 16)"
      ]
     },
     "execution_count": 432,
     "metadata": {},
     "output_type": "execute_result"
    }
   ],
   "source": [
    "subset.shape"
   ]
  },
  {
   "cell_type": "code",
   "execution_count": 425,
   "id": "0d87e2fd",
   "metadata": {},
   "outputs": [],
   "source": [
    "subset['Total.Medium.Injuries']=subset['Total.Fatal.Injuries']+subset['Total.Serious.Injuries']"
   ]
  },
  {
   "cell_type": "code",
   "execution_count": 481,
   "id": "e6790ee9",
   "metadata": {},
   "outputs": [],
   "source": [
    "subset['Total.Injuries']=subset['Total.Fatal.Injuries']+subset['Total.Serious.Injuries']+subset['Total.Minor.Injuries']"
   ]
  },
  {
   "cell_type": "code",
   "execution_count": 409,
   "id": "3778a62b",
   "metadata": {
    "scrolled": true
   },
   "outputs": [
    {
     "data": {
      "text/plain": [
       "(25271, 15)"
      ]
     },
     "execution_count": 409,
     "metadata": {},
     "output_type": "execute_result"
    }
   ],
   "source": [
    "subset.shape"
   ]
  },
  {
   "cell_type": "code",
   "execution_count": 414,
   "id": "8046357c",
   "metadata": {},
   "outputs": [],
   "source": [
    "subset = subset[subset['Number.of.Engines']!= 0.0]\n"
   ]
  },
  {
   "cell_type": "code",
   "execution_count": 422,
   "id": "6ae674bc",
   "metadata": {},
   "outputs": [],
   "source": [
    "subset=subset[subset['Aircraft.damage']!= 'Destroyed']\n",
    "subset=subset[subset['Injury.Severity']!= 'Fatal']"
   ]
  },
  {
   "cell_type": "code",
   "execution_count": 428,
   "id": "44c0e606",
   "metadata": {},
   "outputs": [],
   "source": [
    "subset=subset[subset['Engine.Type']!= 'LR']\n",
    "subset=subset[subset['Engine.Type']!= 'UNK']\n",
    "subset=subset[subset['Engine.Type']!= 'Geared Turbofan']\n",
    "subset=subset[subset['Engine.Type']!= 'Electric']\n"
   ]
  },
  {
   "cell_type": "code",
   "execution_count": 460,
   "id": "8e079869",
   "metadata": {},
   "outputs": [
    {
     "data": {
      "text/plain": [
       "Non-Fatal    18591\n",
       "Minor          236\n",
       "Serious        129\n",
       "Name: Injury.Severity, dtype: int64"
      ]
     },
     "execution_count": 460,
     "metadata": {},
     "output_type": "execute_result"
    }
   ],
   "source": [
    "subset['Injury.Severity'].value_counts()"
   ]
  },
  {
   "cell_type": "markdown",
   "id": "94c7b04e",
   "metadata": {
    "scrolled": true
   },
   "source": [
    "# Data Analysis"
   ]
  },
  {
   "cell_type": "markdown",
   "id": "74c9b145",
   "metadata": {},
   "source": [
    "The goal of this project is for the company to get the less risky aircraft to get a new businness path.\n",
    "In order to get this list of less risky aircraft I would like to get a variable that will give me the output of that list of aircraft.\n"
   ]
  },
  {
   "cell_type": "code",
   "execution_count": 482,
   "id": "ccc6df62",
   "metadata": {
    "scrolled": true
   },
   "outputs": [
    {
     "data": {
      "text/html": [
       "<div>\n",
       "<style scoped>\n",
       "    .dataframe tbody tr th:only-of-type {\n",
       "        vertical-align: middle;\n",
       "    }\n",
       "\n",
       "    .dataframe tbody tr th {\n",
       "        vertical-align: top;\n",
       "    }\n",
       "\n",
       "    .dataframe thead th {\n",
       "        text-align: right;\n",
       "    }\n",
       "</style>\n",
       "<table border=\"1\" class=\"dataframe\">\n",
       "  <thead>\n",
       "    <tr style=\"text-align: right;\">\n",
       "      <th></th>\n",
       "      <th>Year</th>\n",
       "      <th>Country</th>\n",
       "      <th>Injury.Severity</th>\n",
       "      <th>Aircraft.damage</th>\n",
       "      <th>Aircraft.Category</th>\n",
       "      <th>Make</th>\n",
       "      <th>Model</th>\n",
       "      <th>Number.of.Engines</th>\n",
       "      <th>Engine.Type</th>\n",
       "      <th>Purpose.of.flight</th>\n",
       "      <th>Total.Fatal.Injuries</th>\n",
       "      <th>Total.Serious.Injuries</th>\n",
       "      <th>Total.Minor.Injuries</th>\n",
       "      <th>Total.Uninjured</th>\n",
       "      <th>Weather.Condition</th>\n",
       "      <th>Total.Medium.Injuries</th>\n",
       "      <th>Total.Injuries</th>\n",
       "    </tr>\n",
       "  </thead>\n",
       "  <tbody>\n",
       "    <tr>\n",
       "      <th>45478</th>\n",
       "      <td>1999</td>\n",
       "      <td>United States</td>\n",
       "      <td>Minor</td>\n",
       "      <td>Minor</td>\n",
       "      <td>Airplane</td>\n",
       "      <td>Boeing</td>\n",
       "      <td>727-225A</td>\n",
       "      <td>3.0</td>\n",
       "      <td>Turbo Fan</td>\n",
       "      <td>Unknown</td>\n",
       "      <td>0.0</td>\n",
       "      <td>0.0</td>\n",
       "      <td>0.0</td>\n",
       "      <td>180.0</td>\n",
       "      <td>VMC</td>\n",
       "      <td>0.0</td>\n",
       "      <td>0.0</td>\n",
       "    </tr>\n",
       "    <tr>\n",
       "      <th>45531</th>\n",
       "      <td>1999</td>\n",
       "      <td>United States</td>\n",
       "      <td>Minor</td>\n",
       "      <td>Minor</td>\n",
       "      <td>Airplane</td>\n",
       "      <td>Boeing</td>\n",
       "      <td>747-100</td>\n",
       "      <td>4.0</td>\n",
       "      <td>Turbo Fan</td>\n",
       "      <td>Unknown</td>\n",
       "      <td>0.0</td>\n",
       "      <td>0.0</td>\n",
       "      <td>0.0</td>\n",
       "      <td>4.0</td>\n",
       "      <td>VMC</td>\n",
       "      <td>0.0</td>\n",
       "      <td>0.0</td>\n",
       "    </tr>\n",
       "    <tr>\n",
       "      <th>45588</th>\n",
       "      <td>1999</td>\n",
       "      <td>United States</td>\n",
       "      <td>Minor</td>\n",
       "      <td>Minor</td>\n",
       "      <td>Airplane</td>\n",
       "      <td>Piper</td>\n",
       "      <td>PA42-1000</td>\n",
       "      <td>2.0</td>\n",
       "      <td>Turbo Prop</td>\n",
       "      <td>Personal</td>\n",
       "      <td>0.0</td>\n",
       "      <td>0.0</td>\n",
       "      <td>0.0</td>\n",
       "      <td>2.0</td>\n",
       "      <td>VMC</td>\n",
       "      <td>0.0</td>\n",
       "      <td>0.0</td>\n",
       "    </tr>\n",
       "    <tr>\n",
       "      <th>45660</th>\n",
       "      <td>1999</td>\n",
       "      <td>United States</td>\n",
       "      <td>Minor</td>\n",
       "      <td>Minor</td>\n",
       "      <td>Airplane</td>\n",
       "      <td>Cessna</td>\n",
       "      <td>T210R</td>\n",
       "      <td>1.0</td>\n",
       "      <td>Reciprocating</td>\n",
       "      <td>Business</td>\n",
       "      <td>0.0</td>\n",
       "      <td>0.0</td>\n",
       "      <td>0.0</td>\n",
       "      <td>3.0</td>\n",
       "      <td>VMC</td>\n",
       "      <td>0.0</td>\n",
       "      <td>0.0</td>\n",
       "    </tr>\n",
       "    <tr>\n",
       "      <th>45752</th>\n",
       "      <td>1999</td>\n",
       "      <td>United States</td>\n",
       "      <td>Minor</td>\n",
       "      <td>Minor</td>\n",
       "      <td>Airplane</td>\n",
       "      <td>Gulfstream</td>\n",
       "      <td>G-IV</td>\n",
       "      <td>2.0</td>\n",
       "      <td>Turbo Fan</td>\n",
       "      <td>Positioning</td>\n",
       "      <td>0.0</td>\n",
       "      <td>0.0</td>\n",
       "      <td>0.0</td>\n",
       "      <td>2.0</td>\n",
       "      <td>VMC</td>\n",
       "      <td>0.0</td>\n",
       "      <td>0.0</td>\n",
       "    </tr>\n",
       "  </tbody>\n",
       "</table>\n",
       "</div>"
      ],
      "text/plain": [
       "       Year        Country Injury.Severity Aircraft.damage Aircraft.Category  \\\n",
       "45478  1999  United States           Minor           Minor          Airplane   \n",
       "45531  1999  United States           Minor           Minor          Airplane   \n",
       "45588  1999  United States           Minor           Minor          Airplane   \n",
       "45660  1999  United States           Minor           Minor          Airplane   \n",
       "45752  1999  United States           Minor           Minor          Airplane   \n",
       "\n",
       "             Make      Model  Number.of.Engines    Engine.Type  \\\n",
       "45478      Boeing   727-225A                3.0      Turbo Fan   \n",
       "45531      Boeing    747-100                4.0      Turbo Fan   \n",
       "45588       Piper  PA42-1000                2.0     Turbo Prop   \n",
       "45660      Cessna      T210R                1.0  Reciprocating   \n",
       "45752  Gulfstream       G-IV                2.0      Turbo Fan   \n",
       "\n",
       "      Purpose.of.flight  Total.Fatal.Injuries  Total.Serious.Injuries  \\\n",
       "45478           Unknown                   0.0                     0.0   \n",
       "45531           Unknown                   0.0                     0.0   \n",
       "45588          Personal                   0.0                     0.0   \n",
       "45660          Business                   0.0                     0.0   \n",
       "45752       Positioning                   0.0                     0.0   \n",
       "\n",
       "       Total.Minor.Injuries  Total.Uninjured Weather.Condition  \\\n",
       "45478                   0.0            180.0               VMC   \n",
       "45531                   0.0              4.0               VMC   \n",
       "45588                   0.0              2.0               VMC   \n",
       "45660                   0.0              3.0               VMC   \n",
       "45752                   0.0              2.0               VMC   \n",
       "\n",
       "       Total.Medium.Injuries  Total.Injuries  \n",
       "45478                    0.0             0.0  \n",
       "45531                    0.0             0.0  \n",
       "45588                    0.0             0.0  \n",
       "45660                    0.0             0.0  \n",
       "45752                    0.0             0.0  "
      ]
     },
     "execution_count": 482,
     "metadata": {},
     "output_type": "execute_result"
    }
   ],
   "source": [
    "best_aircraft = subset[(subset['Total.Injuries']== 0.0) & (subset['Aircraft.damage']== 'Minor')]\n",
    "best_aircraft.head()"
   ]
  },
  {
   "cell_type": "code",
   "execution_count": 490,
   "id": "2694b533",
   "metadata": {},
   "outputs": [
    {
     "data": {
      "text/html": [
       "<div>\n",
       "<style scoped>\n",
       "    .dataframe tbody tr th:only-of-type {\n",
       "        vertical-align: middle;\n",
       "    }\n",
       "\n",
       "    .dataframe tbody tr th {\n",
       "        vertical-align: top;\n",
       "    }\n",
       "\n",
       "    .dataframe thead th {\n",
       "        text-align: right;\n",
       "    }\n",
       "</style>\n",
       "<table border=\"1\" class=\"dataframe\">\n",
       "  <thead>\n",
       "    <tr style=\"text-align: right;\">\n",
       "      <th></th>\n",
       "      <th>Year</th>\n",
       "      <th>Country</th>\n",
       "      <th>Injury.Severity</th>\n",
       "      <th>Aircraft.damage</th>\n",
       "      <th>Aircraft.Category</th>\n",
       "      <th>Make</th>\n",
       "      <th>Model</th>\n",
       "      <th>Number.of.Engines</th>\n",
       "      <th>Engine.Type</th>\n",
       "      <th>Purpose.of.flight</th>\n",
       "      <th>Total.Fatal.Injuries</th>\n",
       "      <th>Total.Serious.Injuries</th>\n",
       "      <th>Total.Minor.Injuries</th>\n",
       "      <th>Total.Uninjured</th>\n",
       "      <th>Weather.Condition</th>\n",
       "      <th>Total.Medium.Injuries</th>\n",
       "      <th>Total.Injuries</th>\n",
       "    </tr>\n",
       "  </thead>\n",
       "  <tbody>\n",
       "    <tr>\n",
       "      <th>45478</th>\n",
       "      <td>1999</td>\n",
       "      <td>United States</td>\n",
       "      <td>Minor</td>\n",
       "      <td>Minor</td>\n",
       "      <td>Airplane</td>\n",
       "      <td>Boeing</td>\n",
       "      <td>727-225A</td>\n",
       "      <td>3.0</td>\n",
       "      <td>Turbo Fan</td>\n",
       "      <td>Unknown</td>\n",
       "      <td>0.0</td>\n",
       "      <td>0.0</td>\n",
       "      <td>0.0</td>\n",
       "      <td>180.0</td>\n",
       "      <td>VMC</td>\n",
       "      <td>0.0</td>\n",
       "      <td>0.0</td>\n",
       "    </tr>\n",
       "    <tr>\n",
       "      <th>45531</th>\n",
       "      <td>1999</td>\n",
       "      <td>United States</td>\n",
       "      <td>Minor</td>\n",
       "      <td>Minor</td>\n",
       "      <td>Airplane</td>\n",
       "      <td>Boeing</td>\n",
       "      <td>747-100</td>\n",
       "      <td>4.0</td>\n",
       "      <td>Turbo Fan</td>\n",
       "      <td>Unknown</td>\n",
       "      <td>0.0</td>\n",
       "      <td>0.0</td>\n",
       "      <td>0.0</td>\n",
       "      <td>4.0</td>\n",
       "      <td>VMC</td>\n",
       "      <td>0.0</td>\n",
       "      <td>0.0</td>\n",
       "    </tr>\n",
       "    <tr>\n",
       "      <th>45588</th>\n",
       "      <td>1999</td>\n",
       "      <td>United States</td>\n",
       "      <td>Minor</td>\n",
       "      <td>Minor</td>\n",
       "      <td>Airplane</td>\n",
       "      <td>Piper</td>\n",
       "      <td>PA42-1000</td>\n",
       "      <td>2.0</td>\n",
       "      <td>Turbo Prop</td>\n",
       "      <td>Personal</td>\n",
       "      <td>0.0</td>\n",
       "      <td>0.0</td>\n",
       "      <td>0.0</td>\n",
       "      <td>2.0</td>\n",
       "      <td>VMC</td>\n",
       "      <td>0.0</td>\n",
       "      <td>0.0</td>\n",
       "    </tr>\n",
       "    <tr>\n",
       "      <th>45660</th>\n",
       "      <td>1999</td>\n",
       "      <td>United States</td>\n",
       "      <td>Minor</td>\n",
       "      <td>Minor</td>\n",
       "      <td>Airplane</td>\n",
       "      <td>Cessna</td>\n",
       "      <td>T210R</td>\n",
       "      <td>1.0</td>\n",
       "      <td>Reciprocating</td>\n",
       "      <td>Business</td>\n",
       "      <td>0.0</td>\n",
       "      <td>0.0</td>\n",
       "      <td>0.0</td>\n",
       "      <td>3.0</td>\n",
       "      <td>VMC</td>\n",
       "      <td>0.0</td>\n",
       "      <td>0.0</td>\n",
       "    </tr>\n",
       "    <tr>\n",
       "      <th>45752</th>\n",
       "      <td>1999</td>\n",
       "      <td>United States</td>\n",
       "      <td>Minor</td>\n",
       "      <td>Minor</td>\n",
       "      <td>Airplane</td>\n",
       "      <td>Gulfstream</td>\n",
       "      <td>G-IV</td>\n",
       "      <td>2.0</td>\n",
       "      <td>Turbo Fan</td>\n",
       "      <td>Positioning</td>\n",
       "      <td>0.0</td>\n",
       "      <td>0.0</td>\n",
       "      <td>0.0</td>\n",
       "      <td>2.0</td>\n",
       "      <td>VMC</td>\n",
       "      <td>0.0</td>\n",
       "      <td>0.0</td>\n",
       "    </tr>\n",
       "    <tr>\n",
       "      <th>...</th>\n",
       "      <td>...</td>\n",
       "      <td>...</td>\n",
       "      <td>...</td>\n",
       "      <td>...</td>\n",
       "      <td>...</td>\n",
       "      <td>...</td>\n",
       "      <td>...</td>\n",
       "      <td>...</td>\n",
       "      <td>...</td>\n",
       "      <td>...</td>\n",
       "      <td>...</td>\n",
       "      <td>...</td>\n",
       "      <td>...</td>\n",
       "      <td>...</td>\n",
       "      <td>...</td>\n",
       "      <td>...</td>\n",
       "      <td>...</td>\n",
       "    </tr>\n",
       "    <tr>\n",
       "      <th>89689</th>\n",
       "      <td>2022</td>\n",
       "      <td>United States</td>\n",
       "      <td>Non-Fatal</td>\n",
       "      <td>Minor</td>\n",
       "      <td>Airplane</td>\n",
       "      <td>Cessna</td>\n",
       "      <td>207</td>\n",
       "      <td>1.0</td>\n",
       "      <td>Reciprocating</td>\n",
       "      <td>Unknown</td>\n",
       "      <td>0.0</td>\n",
       "      <td>0.0</td>\n",
       "      <td>0.0</td>\n",
       "      <td>3.0</td>\n",
       "      <td>VMC</td>\n",
       "      <td>0.0</td>\n",
       "      <td>0.0</td>\n",
       "    </tr>\n",
       "    <tr>\n",
       "      <th>89891</th>\n",
       "      <td>2022</td>\n",
       "      <td>American Samoa</td>\n",
       "      <td>Non-Fatal</td>\n",
       "      <td>Minor</td>\n",
       "      <td>Airplane</td>\n",
       "      <td>Ayres</td>\n",
       "      <td>S2R</td>\n",
       "      <td>1.0</td>\n",
       "      <td>Reciprocating</td>\n",
       "      <td>Unknown</td>\n",
       "      <td>0.0</td>\n",
       "      <td>0.0</td>\n",
       "      <td>0.0</td>\n",
       "      <td>1.0</td>\n",
       "      <td>UNK</td>\n",
       "      <td>0.0</td>\n",
       "      <td>0.0</td>\n",
       "    </tr>\n",
       "    <tr>\n",
       "      <th>90062</th>\n",
       "      <td>2022</td>\n",
       "      <td>Philippines</td>\n",
       "      <td>Non-Fatal</td>\n",
       "      <td>Minor</td>\n",
       "      <td>Airplane</td>\n",
       "      <td>Boeing</td>\n",
       "      <td>777</td>\n",
       "      <td>1.0</td>\n",
       "      <td>Reciprocating</td>\n",
       "      <td>Unknown</td>\n",
       "      <td>0.0</td>\n",
       "      <td>0.0</td>\n",
       "      <td>0.0</td>\n",
       "      <td>368.0</td>\n",
       "      <td>UNK</td>\n",
       "      <td>0.0</td>\n",
       "      <td>0.0</td>\n",
       "    </tr>\n",
       "    <tr>\n",
       "      <th>90184</th>\n",
       "      <td>2022</td>\n",
       "      <td>United States</td>\n",
       "      <td>Non-Fatal</td>\n",
       "      <td>Minor</td>\n",
       "      <td>Airplane</td>\n",
       "      <td>Cessna</td>\n",
       "      <td>172M</td>\n",
       "      <td>1.0</td>\n",
       "      <td>Reciprocating</td>\n",
       "      <td>Personal</td>\n",
       "      <td>0.0</td>\n",
       "      <td>0.0</td>\n",
       "      <td>0.0</td>\n",
       "      <td>3.0</td>\n",
       "      <td>VMC</td>\n",
       "      <td>0.0</td>\n",
       "      <td>0.0</td>\n",
       "    </tr>\n",
       "    <tr>\n",
       "      <th>90254</th>\n",
       "      <td>2022</td>\n",
       "      <td>United States</td>\n",
       "      <td>Non-Fatal</td>\n",
       "      <td>Minor</td>\n",
       "      <td>Helicopter</td>\n",
       "      <td>Robinson Helicopter</td>\n",
       "      <td>R44</td>\n",
       "      <td>1.0</td>\n",
       "      <td>Reciprocating</td>\n",
       "      <td>Instructional</td>\n",
       "      <td>0.0</td>\n",
       "      <td>0.0</td>\n",
       "      <td>0.0</td>\n",
       "      <td>3.0</td>\n",
       "      <td>VMC</td>\n",
       "      <td>0.0</td>\n",
       "      <td>0.0</td>\n",
       "    </tr>\n",
       "  </tbody>\n",
       "</table>\n",
       "<p>611 rows × 17 columns</p>\n",
       "</div>"
      ],
      "text/plain": [
       "       Year         Country Injury.Severity Aircraft.damage Aircraft.Category  \\\n",
       "45478  1999   United States           Minor           Minor          Airplane   \n",
       "45531  1999   United States           Minor           Minor          Airplane   \n",
       "45588  1999   United States           Minor           Minor          Airplane   \n",
       "45660  1999   United States           Minor           Minor          Airplane   \n",
       "45752  1999   United States           Minor           Minor          Airplane   \n",
       "...     ...             ...             ...             ...               ...   \n",
       "89689  2022   United States       Non-Fatal           Minor          Airplane   \n",
       "89891  2022  American Samoa       Non-Fatal           Minor          Airplane   \n",
       "90062  2022     Philippines       Non-Fatal           Minor          Airplane   \n",
       "90184  2022   United States       Non-Fatal           Minor          Airplane   \n",
       "90254  2022   United States       Non-Fatal           Minor        Helicopter   \n",
       "\n",
       "                      Make      Model  Number.of.Engines    Engine.Type  \\\n",
       "45478               Boeing   727-225A                3.0      Turbo Fan   \n",
       "45531               Boeing    747-100                4.0      Turbo Fan   \n",
       "45588                Piper  PA42-1000                2.0     Turbo Prop   \n",
       "45660               Cessna      T210R                1.0  Reciprocating   \n",
       "45752           Gulfstream       G-IV                2.0      Turbo Fan   \n",
       "...                    ...        ...                ...            ...   \n",
       "89689               Cessna        207                1.0  Reciprocating   \n",
       "89891                Ayres        S2R                1.0  Reciprocating   \n",
       "90062               Boeing        777                1.0  Reciprocating   \n",
       "90184               Cessna       172M                1.0  Reciprocating   \n",
       "90254  Robinson Helicopter        R44                1.0  Reciprocating   \n",
       "\n",
       "      Purpose.of.flight  Total.Fatal.Injuries  Total.Serious.Injuries  \\\n",
       "45478           Unknown                   0.0                     0.0   \n",
       "45531           Unknown                   0.0                     0.0   \n",
       "45588          Personal                   0.0                     0.0   \n",
       "45660          Business                   0.0                     0.0   \n",
       "45752       Positioning                   0.0                     0.0   \n",
       "...                 ...                   ...                     ...   \n",
       "89689           Unknown                   0.0                     0.0   \n",
       "89891           Unknown                   0.0                     0.0   \n",
       "90062           Unknown                   0.0                     0.0   \n",
       "90184          Personal                   0.0                     0.0   \n",
       "90254     Instructional                   0.0                     0.0   \n",
       "\n",
       "       Total.Minor.Injuries  Total.Uninjured Weather.Condition  \\\n",
       "45478                   0.0            180.0               VMC   \n",
       "45531                   0.0              4.0               VMC   \n",
       "45588                   0.0              2.0               VMC   \n",
       "45660                   0.0              3.0               VMC   \n",
       "45752                   0.0              2.0               VMC   \n",
       "...                     ...              ...               ...   \n",
       "89689                   0.0              3.0               VMC   \n",
       "89891                   0.0              1.0               UNK   \n",
       "90062                   0.0            368.0               UNK   \n",
       "90184                   0.0              3.0               VMC   \n",
       "90254                   0.0              3.0               VMC   \n",
       "\n",
       "       Total.Medium.Injuries  Total.Injuries  \n",
       "45478                    0.0             0.0  \n",
       "45531                    0.0             0.0  \n",
       "45588                    0.0             0.0  \n",
       "45660                    0.0             0.0  \n",
       "45752                    0.0             0.0  \n",
       "...                      ...             ...  \n",
       "89689                    0.0             0.0  \n",
       "89891                    0.0             0.0  \n",
       "90062                    0.0             0.0  \n",
       "90184                    0.0             0.0  \n",
       "90254                    0.0             0.0  \n",
       "\n",
       "[611 rows x 17 columns]"
      ]
     },
     "execution_count": 490,
     "metadata": {},
     "output_type": "execute_result"
    }
   ],
   "source": [
    "best_aircraft[best_aircraft['Make']!=1]"
   ]
  },
  {
   "cell_type": "code",
   "execution_count": 476,
   "id": "a7c463f2",
   "metadata": {},
   "outputs": [
    {
     "data": {
      "text/html": [
       "<div>\n",
       "<style scoped>\n",
       "    .dataframe tbody tr th:only-of-type {\n",
       "        vertical-align: middle;\n",
       "    }\n",
       "\n",
       "    .dataframe tbody tr th {\n",
       "        vertical-align: top;\n",
       "    }\n",
       "\n",
       "    .dataframe thead th {\n",
       "        text-align: right;\n",
       "    }\n",
       "</style>\n",
       "<table border=\"1\" class=\"dataframe\">\n",
       "  <thead>\n",
       "    <tr style=\"text-align: right;\">\n",
       "      <th></th>\n",
       "      <th>Year</th>\n",
       "      <th>Country</th>\n",
       "      <th>Injury.Severity</th>\n",
       "      <th>Aircraft.damage</th>\n",
       "      <th>Aircraft.Category</th>\n",
       "      <th>Make</th>\n",
       "      <th>Model</th>\n",
       "      <th>Number.of.Engines</th>\n",
       "      <th>Engine.Type</th>\n",
       "      <th>Purpose.of.flight</th>\n",
       "      <th>Total.Fatal.Injuries</th>\n",
       "      <th>Total.Serious.Injuries</th>\n",
       "      <th>Total.Minor.Injuries</th>\n",
       "      <th>Total.Uninjured</th>\n",
       "      <th>Weather.Condition</th>\n",
       "      <th>Total.Medium.Injuries</th>\n",
       "    </tr>\n",
       "  </thead>\n",
       "  <tbody>\n",
       "    <tr>\n",
       "      <th>45478</th>\n",
       "      <td>1999</td>\n",
       "      <td>United States</td>\n",
       "      <td>Minor</td>\n",
       "      <td>Minor</td>\n",
       "      <td>Airplane</td>\n",
       "      <td>Boeing</td>\n",
       "      <td>727-225A</td>\n",
       "      <td>3.0</td>\n",
       "      <td>Turbo Fan</td>\n",
       "      <td>Unknown</td>\n",
       "      <td>0.0</td>\n",
       "      <td>0.0</td>\n",
       "      <td>0.0</td>\n",
       "      <td>180.0</td>\n",
       "      <td>VMC</td>\n",
       "      <td>0.0</td>\n",
       "    </tr>\n",
       "    <tr>\n",
       "      <th>45531</th>\n",
       "      <td>1999</td>\n",
       "      <td>United States</td>\n",
       "      <td>Minor</td>\n",
       "      <td>Minor</td>\n",
       "      <td>Airplane</td>\n",
       "      <td>Boeing</td>\n",
       "      <td>747-100</td>\n",
       "      <td>4.0</td>\n",
       "      <td>Turbo Fan</td>\n",
       "      <td>Unknown</td>\n",
       "      <td>0.0</td>\n",
       "      <td>0.0</td>\n",
       "      <td>0.0</td>\n",
       "      <td>4.0</td>\n",
       "      <td>VMC</td>\n",
       "      <td>0.0</td>\n",
       "    </tr>\n",
       "    <tr>\n",
       "      <th>46468</th>\n",
       "      <td>1999</td>\n",
       "      <td>United States</td>\n",
       "      <td>Minor</td>\n",
       "      <td>Minor</td>\n",
       "      <td>Airplane</td>\n",
       "      <td>Boeing</td>\n",
       "      <td>767-323</td>\n",
       "      <td>2.0</td>\n",
       "      <td>Turbo Fan</td>\n",
       "      <td>Unknown</td>\n",
       "      <td>0.0</td>\n",
       "      <td>0.0</td>\n",
       "      <td>0.0</td>\n",
       "      <td>186.0</td>\n",
       "      <td>VMC</td>\n",
       "      <td>0.0</td>\n",
       "    </tr>\n",
       "    <tr>\n",
       "      <th>46942</th>\n",
       "      <td>1999</td>\n",
       "      <td>United States</td>\n",
       "      <td>Minor</td>\n",
       "      <td>Minor</td>\n",
       "      <td>Airplane</td>\n",
       "      <td>Boeing</td>\n",
       "      <td>727-200</td>\n",
       "      <td>3.0</td>\n",
       "      <td>Turbo Jet</td>\n",
       "      <td>Unknown</td>\n",
       "      <td>0.0</td>\n",
       "      <td>0.0</td>\n",
       "      <td>0.0</td>\n",
       "      <td>171.0</td>\n",
       "      <td>VMC</td>\n",
       "      <td>0.0</td>\n",
       "    </tr>\n",
       "    <tr>\n",
       "      <th>47457</th>\n",
       "      <td>1999</td>\n",
       "      <td>United States</td>\n",
       "      <td>Minor</td>\n",
       "      <td>Minor</td>\n",
       "      <td>Airplane</td>\n",
       "      <td>Boeing</td>\n",
       "      <td>737-400</td>\n",
       "      <td>2.0</td>\n",
       "      <td>Turbo Fan</td>\n",
       "      <td>Unknown</td>\n",
       "      <td>0.0</td>\n",
       "      <td>0.0</td>\n",
       "      <td>0.0</td>\n",
       "      <td>145.0</td>\n",
       "      <td>UNK</td>\n",
       "      <td>0.0</td>\n",
       "    </tr>\n",
       "  </tbody>\n",
       "</table>\n",
       "</div>"
      ],
      "text/plain": [
       "       Year        Country Injury.Severity Aircraft.damage Aircraft.Category  \\\n",
       "45478  1999  United States           Minor           Minor          Airplane   \n",
       "45531  1999  United States           Minor           Minor          Airplane   \n",
       "46468  1999  United States           Minor           Minor          Airplane   \n",
       "46942  1999  United States           Minor           Minor          Airplane   \n",
       "47457  1999  United States           Minor           Minor          Airplane   \n",
       "\n",
       "         Make     Model  Number.of.Engines Engine.Type Purpose.of.flight  \\\n",
       "45478  Boeing  727-225A                3.0   Turbo Fan           Unknown   \n",
       "45531  Boeing   747-100                4.0   Turbo Fan           Unknown   \n",
       "46468  Boeing   767-323                2.0   Turbo Fan           Unknown   \n",
       "46942  Boeing   727-200                3.0   Turbo Jet           Unknown   \n",
       "47457  Boeing   737-400                2.0   Turbo Fan           Unknown   \n",
       "\n",
       "       Total.Fatal.Injuries  Total.Serious.Injuries  Total.Minor.Injuries  \\\n",
       "45478                   0.0                     0.0                   0.0   \n",
       "45531                   0.0                     0.0                   0.0   \n",
       "46468                   0.0                     0.0                   0.0   \n",
       "46942                   0.0                     0.0                   0.0   \n",
       "47457                   0.0                     0.0                   0.0   \n",
       "\n",
       "       Total.Uninjured Weather.Condition  Total.Medium.Injuries  \n",
       "45478            180.0               VMC                    0.0  \n",
       "45531              4.0               VMC                    0.0  \n",
       "46468            186.0               VMC                    0.0  \n",
       "46942            171.0               VMC                    0.0  \n",
       "47457            145.0               UNK                    0.0  "
      ]
     },
     "execution_count": 476,
     "metadata": {},
     "output_type": "execute_result"
    }
   ],
   "source": [
    "best_boeing=best_aircraft[best_aircraft['Make']=='Boeing']\n",
    "best_boeing.head()"
   ]
  },
  {
   "cell_type": "code",
   "execution_count": 488,
   "id": "d19ab320",
   "metadata": {
    "scrolled": true
   },
   "outputs": [
    {
     "data": {
      "text/plain": [
       "45478    0.0\n",
       "45531    0.0\n",
       "45588    0.0\n",
       "45660    0.0\n",
       "45752    0.0\n",
       "        ... \n",
       "89689    0.0\n",
       "89891    0.0\n",
       "90062    0.0\n",
       "90184    0.0\n",
       "90254    0.0\n",
       "Name: Total.Injuries, Length: 611, dtype: float64"
      ]
     },
     "execution_count": 488,
     "metadata": {},
     "output_type": "execute_result"
    }
   ],
   "source": [
    "best_aircraft['Total.Injuries']"
   ]
  },
  {
   "cell_type": "code",
   "execution_count": 507,
   "id": "8b11f0af",
   "metadata": {},
   "outputs": [],
   "source": [
    "subset_sample = subset.sample(n=5)\n",
    "best_aircraft=best_aircraft.sample(n=10, replace=True)"
   ]
  },
  {
   "cell_type": "code",
   "execution_count": 509,
   "id": "bbe5ea70",
   "metadata": {},
   "outputs": [
    {
     "data": {
      "image/png": "[encoded data removed]",
      "text/plain": [
       "<Figure size 432x288 with 1 Axes>"
      ]
     },
     "metadata": {
      "needs_background": "light"
     },
     "output_type": "display_data"
    }
   ],
   "source": [
    "sns.histplot(x=best_aircraft['Make'], y=best_aircraft['Year'], data=df)\n",
    "plt.show()\n"
   ]
  },
  {
   "cell_type": "markdown",
   "id": "6480104e",
   "metadata": {},
   "source": [
    "# Conclusions"
   ]
  },
  {
   "cell_type": "markdown",
   "id": "6a93243c",
   "metadata": {},
   "source": []
  },
  {
   "cell_type": "markdown",
   "id": "47fc94ed",
   "metadata": {},
   "source": [
    "## Limitations"
   ]
  },
  {
   "cell_type": "markdown",
   "id": "15404563",
   "metadata": {},
   "source": []
  },
  {
   "cell_type": "markdown",
   "id": "f79ec8e0",
   "metadata": {},
   "source": [
    "## Recommendations"
   ]
  },
  {
   "cell_type": "markdown",
   "id": "17a7bcf4",
   "metadata": {},
   "source": []
  },
  {
   "cell_type": "markdown",
   "id": "6f269863",
   "metadata": {},
   "source": [
    "## Next Steps"
   ]
  },
  {
   "cell_type": "markdown",
   "id": "94dec6c1",
   "metadata": {},
   "source": []
  },
  {
   "cell_type": "markdown",
   "id": "1e45bd80",
   "metadata": {},
   "source": []
  }
 ],
 "metadata": {
  "kernelspec": {
   "display_name": "Python (learn-env)",
   "language": "python",
   "name": "learn-env"
  },
  "language_info": {
   "codemirror_mode": {
    "name": "ipython",
    "version": 3
   },
   "file_extension": ".py",
   "mimetype": "text/x-python",
   "name": "python",
   "nbconvert_exporter": "python",
   "pygments_lexer": "ipython3",
   "version": "3.8.5"
  }
 },
 "nbformat": 4,
 "nbformat_minor": 5
}
