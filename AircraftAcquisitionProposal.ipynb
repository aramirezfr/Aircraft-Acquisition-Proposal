{
 "cells": [
  {
   "cell_type": "markdown",
   "id": "e1f4f7a2",
   "metadata": {},
   "source": [
    "# Business Understanding"
   ]
  },
  {
   "cell_type": "markdown",
   "id": "d6e89b58",
   "metadata": {},
   "source": [
    "The company is interested in purchasing and operating airplanes for commercial and private enterprises.\n",
    "This data will help the company determine which aircraft are the lowest risk for the company to acquire to start this new business endeavor."
   ]
  },
  {
   "cell_type": "markdown",
   "id": "0724f88a",
   "metadata": {},
   "source": [
    "# Data Understanding"
   ]
  },
  {
   "cell_type": "markdown",
   "id": "9b3eb0a1",
   "metadata": {},
   "source": [
    "To get the insights needed I will analyze the National Transportation Safety Board data set that includes data from 1962 to 2023 that includes information about civil aviation accidents and selected incidents in the US and internationally."
   ]
  },
  {
   "cell_type": "markdown",
   "id": "ba0cfd3e",
   "metadata": {},
   "source": [
    "From this dataset I will focus on researching to the safest airplanes to fly as well as the newest generations of plane models that are the most reliable rather than the older options.\n",
    "I will focus my analysis also on the accidents rate to find the planes with a clean flight record."
   ]
  },
  {
   "cell_type": "markdown",
   "id": "512c0e85",
   "metadata": {},
   "source": [
    "## Exploratory Data Analysis"
   ]
  },
  {
   "cell_type": "code",
   "execution_count": 1,
   "id": "e20ee98c",
   "metadata": {},
   "outputs": [],
   "source": [
    "#Start by importing the necessary libraries to analyze this data\n",
    "import pandas as pd\n",
    "import numpy as py\n",
    "import matplotlib.pyplot as plt\n",
    "%matplotlib inline\n",
    "import seaborn as sns\n"
   ]
  },
  {
   "cell_type": "code",
   "execution_count": 2,
   "id": "db02a653",
   "metadata": {},
   "outputs": [],
   "source": [
    "#load the necessary csv dataframe\n",
    "df = pd.read_csv('Aviation_Data.csv',low_memory=False)"
   ]
  },
  {
   "cell_type": "code",
   "execution_count": 3,
   "id": "be71629f",
   "metadata": {},
   "outputs": [
    {
     "name": "stdout",
     "output_type": "stream",
     "text": [
      "<class 'pandas.core.frame.DataFrame'>\n",
      "RangeIndex: 90348 entries, 0 to 90347\n",
      "Data columns (total 31 columns):\n",
      " #   Column                  Non-Null Count  Dtype  \n",
      "---  ------                  --------------  -----  \n",
      " 0   Event.Id                88889 non-null  object \n",
      " 1   Investigation.Type      90348 non-null  object \n",
      " 2   Accident.Number         88889 non-null  object \n",
      " 3   Event.Date              88889 non-null  object \n",
      " 4   Location                88837 non-null  object \n",
      " 5   Country                 88663 non-null  object \n",
      " 6   Latitude                34382 non-null  object \n",
      " 7   Longitude               34373 non-null  object \n",
      " 8   Airport.Code            50249 non-null  object \n",
      " 9   Airport.Name            52790 non-null  object \n",
      " 10  Injury.Severity         87889 non-null  object \n",
      " 11  Aircraft.damage         85695 non-null  object \n",
      " 12  Aircraft.Category       32287 non-null  object \n",
      " 13  Registration.Number     87572 non-null  object \n",
      " 14  Make                    88826 non-null  object \n",
      " 15  Model                   88797 non-null  object \n",
      " 16  Amateur.Built           88787 non-null  object \n",
      " 17  Number.of.Engines       82805 non-null  float64\n",
      " 18  Engine.Type             81812 non-null  object \n",
      " 19  FAR.Description         32023 non-null  object \n",
      " 20  Schedule                12582 non-null  object \n",
      " 21  Purpose.of.flight       82697 non-null  object \n",
      " 22  Air.carrier             16648 non-null  object \n",
      " 23  Total.Fatal.Injuries    77488 non-null  float64\n",
      " 24  Total.Serious.Injuries  76379 non-null  float64\n",
      " 25  Total.Minor.Injuries    76956 non-null  float64\n",
      " 26  Total.Uninjured         82977 non-null  float64\n",
      " 27  Weather.Condition       84397 non-null  object \n",
      " 28  Broad.phase.of.flight   61724 non-null  object \n",
      " 29  Report.Status           82508 non-null  object \n",
      " 30  Publication.Date        73659 non-null  object \n",
      "dtypes: float64(5), object(26)\n",
      "memory usage: 21.4+ MB\n"
     ]
    },
    {
     "data": {
      "text/plain": [
       "(90348, 31)"
      ]
     },
     "execution_count": 3,
     "metadata": {},
     "output_type": "execute_result"
    }
   ],
   "source": [
    "#time to explore the columns, size and content of the dataframe\n",
    "#90,348 rows x 31 columns\n",
    "df.info()\n",
    "df.shape"
   ]
  },
  {
   "cell_type": "code",
   "execution_count": 4,
   "id": "2e6a5709",
   "metadata": {
    "scrolled": false
   },
   "outputs": [
    {
     "data": {
      "text/html": [
       "<div>\n",
       "<style scoped>\n",
       "    .dataframe tbody tr th:only-of-type {\n",
       "        vertical-align: middle;\n",
       "    }\n",
       "\n",
       "    .dataframe tbody tr th {\n",
       "        vertical-align: top;\n",
       "    }\n",
       "\n",
       "    .dataframe thead th {\n",
       "        text-align: right;\n",
       "    }\n",
       "</style>\n",
       "<table border=\"1\" class=\"dataframe\">\n",
       "  <thead>\n",
       "    <tr style=\"text-align: right;\">\n",
       "      <th></th>\n",
       "      <th>Event.Id</th>\n",
       "      <th>Investigation.Type</th>\n",
       "      <th>Accident.Number</th>\n",
       "      <th>Event.Date</th>\n",
       "      <th>Location</th>\n",
       "      <th>Country</th>\n",
       "      <th>Latitude</th>\n",
       "      <th>Longitude</th>\n",
       "      <th>Airport.Code</th>\n",
       "      <th>Airport.Name</th>\n",
       "      <th>...</th>\n",
       "      <th>Purpose.of.flight</th>\n",
       "      <th>Air.carrier</th>\n",
       "      <th>Total.Fatal.Injuries</th>\n",
       "      <th>Total.Serious.Injuries</th>\n",
       "      <th>Total.Minor.Injuries</th>\n",
       "      <th>Total.Uninjured</th>\n",
       "      <th>Weather.Condition</th>\n",
       "      <th>Broad.phase.of.flight</th>\n",
       "      <th>Report.Status</th>\n",
       "      <th>Publication.Date</th>\n",
       "    </tr>\n",
       "  </thead>\n",
       "  <tbody>\n",
       "    <tr>\n",
       "      <th>0</th>\n",
       "      <td>20001218X45444</td>\n",
       "      <td>Accident</td>\n",
       "      <td>SEA87LA080</td>\n",
       "      <td>1948-10-24</td>\n",
       "      <td>MOOSE CREEK, ID</td>\n",
       "      <td>United States</td>\n",
       "      <td>NaN</td>\n",
       "      <td>NaN</td>\n",
       "      <td>NaN</td>\n",
       "      <td>NaN</td>\n",
       "      <td>...</td>\n",
       "      <td>Personal</td>\n",
       "      <td>NaN</td>\n",
       "      <td>2.0</td>\n",
       "      <td>0.0</td>\n",
       "      <td>0.0</td>\n",
       "      <td>0.0</td>\n",
       "      <td>UNK</td>\n",
       "      <td>Cruise</td>\n",
       "      <td>Probable Cause</td>\n",
       "      <td>NaN</td>\n",
       "    </tr>\n",
       "    <tr>\n",
       "      <th>1</th>\n",
       "      <td>20001218X45447</td>\n",
       "      <td>Accident</td>\n",
       "      <td>LAX94LA336</td>\n",
       "      <td>1962-07-19</td>\n",
       "      <td>BRIDGEPORT, CA</td>\n",
       "      <td>United States</td>\n",
       "      <td>NaN</td>\n",
       "      <td>NaN</td>\n",
       "      <td>NaN</td>\n",
       "      <td>NaN</td>\n",
       "      <td>...</td>\n",
       "      <td>Personal</td>\n",
       "      <td>NaN</td>\n",
       "      <td>4.0</td>\n",
       "      <td>0.0</td>\n",
       "      <td>0.0</td>\n",
       "      <td>0.0</td>\n",
       "      <td>UNK</td>\n",
       "      <td>Unknown</td>\n",
       "      <td>Probable Cause</td>\n",
       "      <td>19-09-1996</td>\n",
       "    </tr>\n",
       "    <tr>\n",
       "      <th>2</th>\n",
       "      <td>20061025X01555</td>\n",
       "      <td>Accident</td>\n",
       "      <td>NYC07LA005</td>\n",
       "      <td>1974-08-30</td>\n",
       "      <td>Saltville, VA</td>\n",
       "      <td>United States</td>\n",
       "      <td>36.922223</td>\n",
       "      <td>-81.878056</td>\n",
       "      <td>NaN</td>\n",
       "      <td>NaN</td>\n",
       "      <td>...</td>\n",
       "      <td>Personal</td>\n",
       "      <td>NaN</td>\n",
       "      <td>3.0</td>\n",
       "      <td>NaN</td>\n",
       "      <td>NaN</td>\n",
       "      <td>NaN</td>\n",
       "      <td>IMC</td>\n",
       "      <td>Cruise</td>\n",
       "      <td>Probable Cause</td>\n",
       "      <td>26-02-2007</td>\n",
       "    </tr>\n",
       "    <tr>\n",
       "      <th>3</th>\n",
       "      <td>20001218X45448</td>\n",
       "      <td>Accident</td>\n",
       "      <td>LAX96LA321</td>\n",
       "      <td>1977-06-19</td>\n",
       "      <td>EUREKA, CA</td>\n",
       "      <td>United States</td>\n",
       "      <td>NaN</td>\n",
       "      <td>NaN</td>\n",
       "      <td>NaN</td>\n",
       "      <td>NaN</td>\n",
       "      <td>...</td>\n",
       "      <td>Personal</td>\n",
       "      <td>NaN</td>\n",
       "      <td>2.0</td>\n",
       "      <td>0.0</td>\n",
       "      <td>0.0</td>\n",
       "      <td>0.0</td>\n",
       "      <td>IMC</td>\n",
       "      <td>Cruise</td>\n",
       "      <td>Probable Cause</td>\n",
       "      <td>12-09-2000</td>\n",
       "    </tr>\n",
       "    <tr>\n",
       "      <th>4</th>\n",
       "      <td>20041105X01764</td>\n",
       "      <td>Accident</td>\n",
       "      <td>CHI79FA064</td>\n",
       "      <td>1979-08-02</td>\n",
       "      <td>Canton, OH</td>\n",
       "      <td>United States</td>\n",
       "      <td>NaN</td>\n",
       "      <td>NaN</td>\n",
       "      <td>NaN</td>\n",
       "      <td>NaN</td>\n",
       "      <td>...</td>\n",
       "      <td>Personal</td>\n",
       "      <td>NaN</td>\n",
       "      <td>1.0</td>\n",
       "      <td>2.0</td>\n",
       "      <td>NaN</td>\n",
       "      <td>0.0</td>\n",
       "      <td>VMC</td>\n",
       "      <td>Approach</td>\n",
       "      <td>Probable Cause</td>\n",
       "      <td>16-04-1980</td>\n",
       "    </tr>\n",
       "    <tr>\n",
       "      <th>5</th>\n",
       "      <td>20170710X52551</td>\n",
       "      <td>Accident</td>\n",
       "      <td>NYC79AA106</td>\n",
       "      <td>1979-09-17</td>\n",
       "      <td>BOSTON, MA</td>\n",
       "      <td>United States</td>\n",
       "      <td>42.445277</td>\n",
       "      <td>-70.758333</td>\n",
       "      <td>NaN</td>\n",
       "      <td>NaN</td>\n",
       "      <td>...</td>\n",
       "      <td>NaN</td>\n",
       "      <td>Air Canada</td>\n",
       "      <td>NaN</td>\n",
       "      <td>NaN</td>\n",
       "      <td>1.0</td>\n",
       "      <td>44.0</td>\n",
       "      <td>VMC</td>\n",
       "      <td>Climb</td>\n",
       "      <td>Probable Cause</td>\n",
       "      <td>19-09-2017</td>\n",
       "    </tr>\n",
       "    <tr>\n",
       "      <th>6</th>\n",
       "      <td>20001218X45446</td>\n",
       "      <td>Accident</td>\n",
       "      <td>CHI81LA106</td>\n",
       "      <td>1981-08-01</td>\n",
       "      <td>COTTON, MN</td>\n",
       "      <td>United States</td>\n",
       "      <td>NaN</td>\n",
       "      <td>NaN</td>\n",
       "      <td>NaN</td>\n",
       "      <td>NaN</td>\n",
       "      <td>...</td>\n",
       "      <td>Personal</td>\n",
       "      <td>NaN</td>\n",
       "      <td>4.0</td>\n",
       "      <td>0.0</td>\n",
       "      <td>0.0</td>\n",
       "      <td>0.0</td>\n",
       "      <td>IMC</td>\n",
       "      <td>Unknown</td>\n",
       "      <td>Probable Cause</td>\n",
       "      <td>06-11-2001</td>\n",
       "    </tr>\n",
       "    <tr>\n",
       "      <th>7</th>\n",
       "      <td>20020909X01562</td>\n",
       "      <td>Accident</td>\n",
       "      <td>SEA82DA022</td>\n",
       "      <td>1982-01-01</td>\n",
       "      <td>PULLMAN, WA</td>\n",
       "      <td>United States</td>\n",
       "      <td>NaN</td>\n",
       "      <td>NaN</td>\n",
       "      <td>NaN</td>\n",
       "      <td>BLACKBURN AG STRIP</td>\n",
       "      <td>...</td>\n",
       "      <td>Personal</td>\n",
       "      <td>NaN</td>\n",
       "      <td>0.0</td>\n",
       "      <td>0.0</td>\n",
       "      <td>0.0</td>\n",
       "      <td>2.0</td>\n",
       "      <td>VMC</td>\n",
       "      <td>Takeoff</td>\n",
       "      <td>Probable Cause</td>\n",
       "      <td>01-01-1982</td>\n",
       "    </tr>\n",
       "    <tr>\n",
       "      <th>8</th>\n",
       "      <td>20020909X01561</td>\n",
       "      <td>Accident</td>\n",
       "      <td>NYC82DA015</td>\n",
       "      <td>1982-01-01</td>\n",
       "      <td>EAST HANOVER, NJ</td>\n",
       "      <td>United States</td>\n",
       "      <td>NaN</td>\n",
       "      <td>NaN</td>\n",
       "      <td>N58</td>\n",
       "      <td>HANOVER</td>\n",
       "      <td>...</td>\n",
       "      <td>Business</td>\n",
       "      <td>NaN</td>\n",
       "      <td>0.0</td>\n",
       "      <td>0.0</td>\n",
       "      <td>0.0</td>\n",
       "      <td>2.0</td>\n",
       "      <td>IMC</td>\n",
       "      <td>Landing</td>\n",
       "      <td>Probable Cause</td>\n",
       "      <td>01-01-1982</td>\n",
       "    </tr>\n",
       "    <tr>\n",
       "      <th>9</th>\n",
       "      <td>20020909X01560</td>\n",
       "      <td>Accident</td>\n",
       "      <td>MIA82DA029</td>\n",
       "      <td>1982-01-01</td>\n",
       "      <td>JACKSONVILLE, FL</td>\n",
       "      <td>United States</td>\n",
       "      <td>NaN</td>\n",
       "      <td>NaN</td>\n",
       "      <td>JAX</td>\n",
       "      <td>JACKSONVILLE INTL</td>\n",
       "      <td>...</td>\n",
       "      <td>Personal</td>\n",
       "      <td>NaN</td>\n",
       "      <td>0.0</td>\n",
       "      <td>0.0</td>\n",
       "      <td>3.0</td>\n",
       "      <td>0.0</td>\n",
       "      <td>IMC</td>\n",
       "      <td>Cruise</td>\n",
       "      <td>Probable Cause</td>\n",
       "      <td>01-01-1982</td>\n",
       "    </tr>\n",
       "  </tbody>\n",
       "</table>\n",
       "<p>10 rows × 31 columns</p>\n",
       "</div>"
      ],
      "text/plain": [
       "         Event.Id Investigation.Type Accident.Number  Event.Date  \\\n",
       "0  20001218X45444           Accident      SEA87LA080  1948-10-24   \n",
       "1  20001218X45447           Accident      LAX94LA336  1962-07-19   \n",
       "2  20061025X01555           Accident      NYC07LA005  1974-08-30   \n",
       "3  20001218X45448           Accident      LAX96LA321  1977-06-19   \n",
       "4  20041105X01764           Accident      CHI79FA064  1979-08-02   \n",
       "5  20170710X52551           Accident      NYC79AA106  1979-09-17   \n",
       "6  20001218X45446           Accident      CHI81LA106  1981-08-01   \n",
       "7  20020909X01562           Accident      SEA82DA022  1982-01-01   \n",
       "8  20020909X01561           Accident      NYC82DA015  1982-01-01   \n",
       "9  20020909X01560           Accident      MIA82DA029  1982-01-01   \n",
       "\n",
       "           Location        Country   Latitude   Longitude Airport.Code  \\\n",
       "0   MOOSE CREEK, ID  United States        NaN         NaN          NaN   \n",
       "1    BRIDGEPORT, CA  United States        NaN         NaN          NaN   \n",
       "2     Saltville, VA  United States  36.922223  -81.878056          NaN   \n",
       "3        EUREKA, CA  United States        NaN         NaN          NaN   \n",
       "4        Canton, OH  United States        NaN         NaN          NaN   \n",
       "5        BOSTON, MA  United States  42.445277  -70.758333          NaN   \n",
       "6        COTTON, MN  United States        NaN         NaN          NaN   \n",
       "7       PULLMAN, WA  United States        NaN         NaN          NaN   \n",
       "8  EAST HANOVER, NJ  United States        NaN         NaN          N58   \n",
       "9  JACKSONVILLE, FL  United States        NaN         NaN          JAX   \n",
       "\n",
       "         Airport.Name  ... Purpose.of.flight Air.carrier Total.Fatal.Injuries  \\\n",
       "0                 NaN  ...          Personal         NaN                  2.0   \n",
       "1                 NaN  ...          Personal         NaN                  4.0   \n",
       "2                 NaN  ...          Personal         NaN                  3.0   \n",
       "3                 NaN  ...          Personal         NaN                  2.0   \n",
       "4                 NaN  ...          Personal         NaN                  1.0   \n",
       "5                 NaN  ...               NaN  Air Canada                  NaN   \n",
       "6                 NaN  ...          Personal         NaN                  4.0   \n",
       "7  BLACKBURN AG STRIP  ...          Personal         NaN                  0.0   \n",
       "8             HANOVER  ...          Business         NaN                  0.0   \n",
       "9   JACKSONVILLE INTL  ...          Personal         NaN                  0.0   \n",
       "\n",
       "  Total.Serious.Injuries Total.Minor.Injuries Total.Uninjured  \\\n",
       "0                    0.0                  0.0             0.0   \n",
       "1                    0.0                  0.0             0.0   \n",
       "2                    NaN                  NaN             NaN   \n",
       "3                    0.0                  0.0             0.0   \n",
       "4                    2.0                  NaN             0.0   \n",
       "5                    NaN                  1.0            44.0   \n",
       "6                    0.0                  0.0             0.0   \n",
       "7                    0.0                  0.0             2.0   \n",
       "8                    0.0                  0.0             2.0   \n",
       "9                    0.0                  3.0             0.0   \n",
       "\n",
       "  Weather.Condition  Broad.phase.of.flight   Report.Status Publication.Date  \n",
       "0               UNK                 Cruise  Probable Cause              NaN  \n",
       "1               UNK                Unknown  Probable Cause       19-09-1996  \n",
       "2               IMC                 Cruise  Probable Cause       26-02-2007  \n",
       "3               IMC                 Cruise  Probable Cause       12-09-2000  \n",
       "4               VMC               Approach  Probable Cause       16-04-1980  \n",
       "5               VMC                  Climb  Probable Cause       19-09-2017  \n",
       "6               IMC                Unknown  Probable Cause       06-11-2001  \n",
       "7               VMC                Takeoff  Probable Cause       01-01-1982  \n",
       "8               IMC                Landing  Probable Cause       01-01-1982  \n",
       "9               IMC                 Cruise  Probable Cause       01-01-1982  \n",
       "\n",
       "[10 rows x 31 columns]"
      ]
     },
     "execution_count": 4,
     "metadata": {},
     "output_type": "execute_result"
    }
   ],
   "source": [
    "#getting a first look of how the dataframe looks on the first 10 rows\n",
    "df.head(10)"
   ]
  },
  {
   "cell_type": "markdown",
   "id": "eccbddb0",
   "metadata": {},
   "source": [
    "## Data Cleaning"
   ]
  },
  {
   "cell_type": "code",
   "execution_count": 5,
   "id": "dbb2d494",
   "metadata": {},
   "outputs": [],
   "source": [
    "#checking if there is any duplicates in the event id column and in accident number column\n",
    "#we dont need duplicates of these\n",
    "df.duplicated(subset='Event.Id').value_counts()\n",
    "df=df.drop_duplicates(subset='Event.Id')\n",
    "df=df.drop_duplicates(subset='Accident.Number')"
   ]
  },
  {
   "cell_type": "code",
   "execution_count": 6,
   "id": "c76472ae",
   "metadata": {},
   "outputs": [
    {
     "data": {
      "text/plain": [
       "(87952, 31)"
      ]
     },
     "execution_count": 6,
     "metadata": {},
     "output_type": "execute_result"
    }
   ],
   "source": [
    "#the dataset now contains 87,952 rows\n",
    "df.shape"
   ]
  },
  {
   "cell_type": "code",
   "execution_count": 7,
   "id": "b0ac344b",
   "metadata": {
    "scrolled": true
   },
   "outputs": [
    {
     "data": {
      "text/plain": [
       "0       1948-10-24\n",
       "1       1962-07-19\n",
       "2       1974-08-30\n",
       "3       1977-06-19\n",
       "4       1979-08-02\n",
       "           ...    \n",
       "90343   2022-12-26\n",
       "90344   2022-12-26\n",
       "90345   2022-12-26\n",
       "90346   2022-12-26\n",
       "90347   2022-12-29\n",
       "Name: Event.Date, Length: 87952, dtype: datetime64[ns]"
      ]
     },
     "execution_count": 7,
     "metadata": {},
     "output_type": "execute_result"
    }
   ],
   "source": [
    "#changing the date to date time, this will help look for the \n",
    "#newer aircrafts\n",
    "df['Event.Date']=pd.to_datetime(df['Event.Date'])\n",
    "df['Event.Date']"
   ]
  },
  {
   "cell_type": "code",
   "execution_count": 8,
   "id": "ee824e3d",
   "metadata": {},
   "outputs": [],
   "source": [
    "#created a new column 'event month year' that contains only the month and year of event\n",
    "df['Event.Month.Year']=df['Event.Date'].dt.strftime('%m-%Y')"
   ]
  },
  {
   "cell_type": "code",
   "execution_count": 9,
   "id": "e827a383",
   "metadata": {},
   "outputs": [],
   "source": [
    "#making new columns for only month and year from the event date column\n",
    "df['Event.Month']=df['Event.Date'].dt.month\n",
    "df['Event.Year']=df['Event.Date'].dt.year"
   ]
  },
  {
   "cell_type": "code",
   "execution_count": 10,
   "id": "71bf4c51",
   "metadata": {},
   "outputs": [
    {
     "data": {
      "text/plain": [
       "Event.Id                      1\n",
       "Investigation.Type            0\n",
       "Accident.Number               1\n",
       "Event.Date                    1\n",
       "Location                     53\n",
       "Country                     223\n",
       "Latitude                  53740\n",
       "Longitude                 53749\n",
       "Airport.Code              38351\n",
       "Airport.Name              35835\n",
       "Injury.Severity             991\n",
       "Aircraft.damage            3104\n",
       "Aircraft.Category         55771\n",
       "Registration.Number        1286\n",
       "Make                         64\n",
       "Model                        93\n",
       "Amateur.Built               101\n",
       "Number.of.Engines          6028\n",
       "Engine.Type                7025\n",
       "FAR.Description           56037\n",
       "Schedule                  75592\n",
       "Purpose.of.flight          6123\n",
       "Air.carrier               71419\n",
       "Total.Fatal.Injuries      11268\n",
       "Total.Serious.Injuries    12323\n",
       "Total.Minor.Injuries      11761\n",
       "Total.Uninjured            5864\n",
       "Weather.Condition          4474\n",
       "Broad.phase.of.flight     27115\n",
       "Report.Status              6362\n",
       "Publication.Date          15058\n",
       "Event.Month.Year              1\n",
       "Event.Month                   1\n",
       "Event.Year                    1\n",
       "dtype: int64"
      ]
     },
     "execution_count": 10,
     "metadata": {},
     "output_type": "execute_result"
    }
   ],
   "source": [
    "#determine the quantity of na in the dataframe per column\n",
    "df.isna().sum()"
   ]
  },
  {
   "cell_type": "markdown",
   "id": "3eee3786",
   "metadata": {},
   "source": [
    "Given that there are too many NaN values, I will create a subset with the necessary columns for my analysis."
   ]
  },
  {
   "cell_type": "code",
   "execution_count": 11,
   "id": "4e00e56f",
   "metadata": {},
   "outputs": [],
   "source": [
    "#Subsetting: Month and year of events, Location, Country, Make, Model, Purpose of flight, Weather conditions\n",
    "#Aircraft category, damage, injury severity, total fatal injuries, serious and minor injuries, total injured, \n",
    "#number of engines, engine type.\n",
    "\n",
    "df_clean = df[['Event.Month', 'Event.Year','Location','Country','Make', 'Model', 'Purpose.of.flight', 'Weather.Condition','Aircraft.Category','Aircraft.damage','Injury.Severity' ,'Total.Fatal.Injuries', 'Total.Serious.Injuries','Total.Minor.Injuries', 'Total.Uninjured', 'Number.of.Engines', 'Engine.Type',  ]]"
   ]
  },
  {
   "cell_type": "code",
   "execution_count": 12,
   "id": "01b48fdb",
   "metadata": {},
   "outputs": [],
   "source": [
    "#Filtering events that happened between 1999 and 2022\n",
    "df_clean=df_clean[(df_clean['Event.Year']>=1999)&(df_clean['Event.Year']<=2022)]"
   ]
  },
  {
   "cell_type": "code",
   "execution_count": 13,
   "id": "cb22c682",
   "metadata": {},
   "outputs": [
    {
     "data": {
      "text/plain": [
       "(43146, 17)"
      ]
     },
     "execution_count": 13,
     "metadata": {},
     "output_type": "execute_result"
    }
   ],
   "source": [
    "#after filtering most recent accidents, 43,146 rows are left\n",
    "df_clean.shape"
   ]
  },
  {
   "cell_type": "code",
   "execution_count": 14,
   "id": "3c863c05",
   "metadata": {},
   "outputs": [],
   "source": [
    "#Adding the title.format to these columns to match with other same values\n",
    "df_clean['Make']=df_clean['Make'].str.title()\n",
    "df_clean['Country']=df_clean['Country'].str.title()\n",
    "df_clean['Location']=df_clean['Location'].str.title()"
   ]
  },
  {
   "cell_type": "code",
   "execution_count": 15,
   "id": "edda5d23",
   "metadata": {},
   "outputs": [
    {
     "data": {
      "text/plain": [
       "Event.Month                   0\n",
       "Event.Year                    0\n",
       "Location                     19\n",
       "Country                      26\n",
       "Make                         55\n",
       "Model                        69\n",
       "Purpose.of.flight          6044\n",
       "Weather.Condition          4458\n",
       "Aircraft.Category         14732\n",
       "Aircraft.damage            2084\n",
       "Injury.Severity             990\n",
       "Total.Fatal.Injuries      11000\n",
       "Total.Serious.Injuries    11980\n",
       "Total.Minor.Injuries      11412\n",
       "Total.Uninjured            5631\n",
       "Number.of.Engines          5066\n",
       "Engine.Type                7011\n",
       "dtype: int64"
      ]
     },
     "execution_count": 15,
     "metadata": {},
     "output_type": "execute_result"
    }
   ],
   "source": [
    "#checking for NaN values in the new subset df_clean \n",
    "df_clean.isna().sum()"
   ]
  },
  {
   "cell_type": "code",
   "execution_count": 16,
   "id": "f8d9a237",
   "metadata": {},
   "outputs": [],
   "source": [
    "#out of the 100% of rows (43,423) only rows with less than 3% nas will be dropped\n",
    "df_clean = df_clean.dropna(subset=['Location', 'Country', 'Make', 'Model', 'Injury.Severity'])"
   ]
  },
  {
   "cell_type": "code",
   "execution_count": 17,
   "id": "0b2dc4f9",
   "metadata": {},
   "outputs": [
    {
     "data": {
      "text/plain": [
       "Event.Month                   0\n",
       "Event.Year                    0\n",
       "Location                      0\n",
       "Country                       0\n",
       "Make                          0\n",
       "Model                         0\n",
       "Purpose.of.flight          5057\n",
       "Weather.Condition          3510\n",
       "Aircraft.Category         14538\n",
       "Aircraft.damage            1566\n",
       "Injury.Severity               0\n",
       "Total.Fatal.Injuries      10969\n",
       "Total.Serious.Injuries    11942\n",
       "Total.Minor.Injuries      11374\n",
       "Total.Uninjured            5603\n",
       "Number.of.Engines          4298\n",
       "Engine.Type                6154\n",
       "dtype: int64"
      ]
     },
     "execution_count": 17,
     "metadata": {},
     "output_type": "execute_result"
    }
   ],
   "source": [
    "#checking again for clean data\n",
    "df_clean.isna().sum()"
   ]
  },
  {
   "cell_type": "code",
   "execution_count": 18,
   "id": "702a80e9",
   "metadata": {
    "scrolled": true
   },
   "outputs": [
    {
     "data": {
      "text/plain": [
       "(42052, 17)"
      ]
     },
     "execution_count": 18,
     "metadata": {},
     "output_type": "execute_result"
    }
   ],
   "source": [
    "#after dropping the columns with 3% nas, there are left 42,052 rows\n",
    "df_clean.shape"
   ]
  },
  {
   "cell_type": "markdown",
   "id": "8a1d2843",
   "metadata": {},
   "source": [
    "Starting Data cleaning per column:"
   ]
  },
  {
   "cell_type": "code",
   "execution_count": 19,
   "id": "4b29331b",
   "metadata": {},
   "outputs": [],
   "source": [
    "#only keeping flights that are of personal and business purpose\n",
    "df_clean['Purpose.of.flight'] = df_clean['Purpose.of.flight'].map(str)\n",
    "df_clean['Purpose.of.flight'] = df_clean['Purpose.of.flight'].apply(lambda x: x if x in ['Personal', 'Business'] else None)"
   ]
  },
  {
   "cell_type": "code",
   "execution_count": 20,
   "id": "6b18ec06",
   "metadata": {},
   "outputs": [],
   "source": [
    "#replacing the NaN of Purpose of flight with the most common value 'Personal'\n",
    "df_clean['Purpose.of.flight']=df_clean['Purpose.of.flight'].fillna('Personal')"
   ]
  },
  {
   "cell_type": "code",
   "execution_count": 21,
   "id": "e35043ec",
   "metadata": {},
   "outputs": [
    {
     "data": {
      "text/plain": [
       "Personal    40871\n",
       "Business     1181\n",
       "Name: Purpose.of.flight, dtype: int64"
      ]
     },
     "execution_count": 21,
     "metadata": {},
     "output_type": "execute_result"
    }
   ],
   "source": [
    "#checking the values and the counts in the column\n",
    "df_clean['Purpose.of.flight'].value_counts()"
   ]
  },
  {
   "cell_type": "code",
   "execution_count": 22,
   "id": "378e100f",
   "metadata": {},
   "outputs": [],
   "source": [
    "#print(df_clean.dtypes)"
   ]
  },
  {
   "cell_type": "code",
   "execution_count": 23,
   "id": "50df0614",
   "metadata": {},
   "outputs": [],
   "source": [
    "#cleaning the weather condition column\n",
    "# I combined the value Unk and UNK to one value UNK\n",
    "df_clean['Weather.Condition']=df_clean['Weather.Condition'].str.upper()"
   ]
  },
  {
   "cell_type": "code",
   "execution_count": 24,
   "id": "ca05508f",
   "metadata": {
    "scrolled": false
   },
   "outputs": [
    {
     "data": {
      "text/plain": [
       "VMC    35914\n",
       "IMC     2274\n",
       "UNK      354\n",
       "Name: Weather.Condition, dtype: int64"
      ]
     },
     "execution_count": 24,
     "metadata": {},
     "output_type": "execute_result"
    }
   ],
   "source": [
    "#checking the values and the counts in the column\n",
    "df_clean['Weather.Condition'].value_counts()"
   ]
  },
  {
   "cell_type": "code",
   "execution_count": 25,
   "id": "f5fcb548",
   "metadata": {},
   "outputs": [],
   "source": [
    "#replacing NaN with the most common value in the column 'VMC'\n",
    "df_clean['Weather.Condition']=df_clean['Weather.Condition'].fillna('VMC')"
   ]
  },
  {
   "cell_type": "code",
   "execution_count": 26,
   "id": "9c2be7db",
   "metadata": {},
   "outputs": [],
   "source": [
    "#In the aircraft category column I will only make use of aircraft that is an airplane\n",
    "df_clean['Aircraft.Category']=df_clean['Aircraft.Category'].map(str)\n",
    "df_clean['Aircraft.Category']=df_clean['Aircraft.Category'].apply(lambda x: x if x in ['Airplane']else None)"
   ]
  },
  {
   "cell_type": "code",
   "execution_count": 27,
   "id": "ab0af1a1",
   "metadata": {},
   "outputs": [
    {
     "data": {
      "text/plain": [
       "Airplane    23336\n",
       "Name: Aircraft.Category, dtype: int64"
      ]
     },
     "execution_count": 27,
     "metadata": {},
     "output_type": "execute_result"
    }
   ],
   "source": [
    "#checking the values and the counts in the column\n",
    "df_clean['Aircraft.Category'].value_counts()"
   ]
  },
  {
   "cell_type": "code",
   "execution_count": 28,
   "id": "09cfe6d7",
   "metadata": {},
   "outputs": [],
   "source": [
    "#replacing NaN with the most common value in the column 'Airplane'\n",
    "df_clean['Aircraft.Category']=df_clean['Aircraft.Category'].fillna('Airplane')"
   ]
  },
  {
   "cell_type": "code",
   "execution_count": 29,
   "id": "e4f5f424",
   "metadata": {},
   "outputs": [
    {
     "data": {
      "text/plain": [
       "Airplane    42052\n",
       "Name: Aircraft.Category, dtype: int64"
      ]
     },
     "execution_count": 29,
     "metadata": {},
     "output_type": "execute_result"
    }
   ],
   "source": [
    "#checking again the values and the counts in the column\n",
    "df_clean['Aircraft.Category'].value_counts()"
   ]
  },
  {
   "cell_type": "code",
   "execution_count": 30,
   "id": "6e8bf1a0",
   "metadata": {},
   "outputs": [],
   "source": [
    "#dropping the nas in the aircraft damage because of the low percentage of rows with nas, 3.6%\n",
    "df_clean = df_clean.dropna(subset=['Aircraft.damage'])"
   ]
  },
  {
   "cell_type": "code",
   "execution_count": 31,
   "id": "428eab94",
   "metadata": {},
   "outputs": [
    {
     "data": {
      "text/plain": [
       "Substantial    33020\n",
       "Destroyed       6227\n",
       "Minor           1147\n",
       "Unknown           92\n",
       "Name: Aircraft.damage, dtype: int64"
      ]
     },
     "execution_count": 31,
     "metadata": {},
     "output_type": "execute_result"
    }
   ],
   "source": [
    "#checking the values and the counts in the column\n",
    "df_clean['Aircraft.damage'].value_counts()"
   ]
  },
  {
   "cell_type": "code",
   "execution_count": 32,
   "id": "7077df16",
   "metadata": {},
   "outputs": [
    {
     "data": {
      "text/plain": [
       "0.0      21114\n",
       "1.0       4405\n",
       "2.0       2535\n",
       "3.0        777\n",
       "4.0        509\n",
       "         ...  \n",
       "58.0         1\n",
       "239.0        1\n",
       "33.0         1\n",
       "265.0        1\n",
       "162.0        1\n",
       "Name: Total.Fatal.Injuries, Length: 94, dtype: int64"
      ]
     },
     "execution_count": 32,
     "metadata": {},
     "output_type": "execute_result"
    }
   ],
   "source": [
    "df_clean['Total.Fatal.Injuries'].value_counts()"
   ]
  },
  {
   "cell_type": "code",
   "execution_count": 33,
   "id": "43d5470b",
   "metadata": {},
   "outputs": [
    {
     "data": {
      "text/plain": [
       "0.8849456975772765"
      ]
     },
     "execution_count": 33,
     "metadata": {},
     "output_type": "execute_result"
    }
   ],
   "source": [
    "#cleaning the collumn Total.Fatal.Injuries \n",
    "#checking the mean of the fatal injuries to fill the NaN values\n",
    "df_clean['Total.Fatal.Injuries'].mean()"
   ]
  },
  {
   "cell_type": "code",
   "execution_count": 34,
   "id": "88630cd1",
   "metadata": {},
   "outputs": [],
   "source": [
    "#using the mean of the fatal injuries to fill the NaN values, using 1 as the mean\n",
    "df_clean['Total.Fatal.Injuries']=df_clean['Total.Fatal.Injuries'].fillna(1)"
   ]
  },
  {
   "cell_type": "code",
   "execution_count": 37,
   "id": "14a49042",
   "metadata": {},
   "outputs": [
    {
     "data": {
      "text/plain": [
       "0.3733199041433682"
      ]
     },
     "execution_count": 37,
     "metadata": {},
     "output_type": "execute_result"
    }
   ],
   "source": [
    "#cleaning the col 'Total.Serious.Injuries'\n",
    "#checking the mean of the serious injuries to fill the NaN values, using 0 as the mean\n",
    "df_clean['Total.Serious.Injuries'].mean()"
   ]
  },
  {
   "cell_type": "code",
   "execution_count": 38,
   "id": "d9bcde83",
   "metadata": {},
   "outputs": [],
   "source": [
    "#changing the mean of the serious injuries to fill the NaN values, using 0 as the mean\n",
    "df_clean['Total.Serious.Injuries']=df_clean['Total.Serious.Injuries'].fillna(0)"
   ]
  },
  {
   "cell_type": "code",
   "execution_count": 39,
   "id": "17c5afc9",
   "metadata": {},
   "outputs": [
    {
     "data": {
      "text/plain": [
       "0.36914936914936913"
      ]
     },
     "execution_count": 39,
     "metadata": {},
     "output_type": "execute_result"
    }
   ],
   "source": [
    "#cleaning the col Total.Minor.Injuries \n",
    "#checking the mean to fill the NaN values\n",
    "df_clean['Total.Minor.Injuries'].mean()"
   ]
  },
  {
   "cell_type": "code",
   "execution_count": 40,
   "id": "8a0a7322",
   "metadata": {},
   "outputs": [],
   "source": [
    "#replacing NaN with mean 0\n",
    "df_clean['Total.Minor.Injuries']=df_clean['Total.Minor.Injuries'].fillna(0)"
   ]
  },
  {
   "cell_type": "code",
   "execution_count": 41,
   "id": "0ea3f0f3",
   "metadata": {},
   "outputs": [
    {
     "data": {
      "text/plain": [
       "3.9787185354691075"
      ]
     },
     "execution_count": 41,
     "metadata": {},
     "output_type": "execute_result"
    }
   ],
   "source": [
    "#cleaning the col Total.Uninjured \n",
    "#checking the mean to fill the NaN values\n",
    "df_clean['Total.Uninjured'].mean()"
   ]
  },
  {
   "cell_type": "code",
   "execution_count": 42,
   "id": "4c3d4656",
   "metadata": {},
   "outputs": [],
   "source": [
    "#replacing NaN with mean 4\n",
    "df_clean['Total.Uninjured']=df_clean['Total.Uninjured'].fillna(4)"
   ]
  },
  {
   "cell_type": "code",
   "execution_count": 43,
   "id": "111462fd",
   "metadata": {},
   "outputs": [
    {
     "data": {
      "text/plain": [
       "1.1162013903975667"
      ]
     },
     "execution_count": 43,
     "metadata": {},
     "output_type": "execute_result"
    }
   ],
   "source": [
    "#cleaning the col Number of engines \n",
    "#checking the mean to fill the NaN values\n",
    "df_clean['Number.of.Engines'].mean()"
   ]
  },
  {
   "cell_type": "code",
   "execution_count": 44,
   "id": "db6af197",
   "metadata": {},
   "outputs": [],
   "source": [
    "#replacing NaN with mean 1\n",
    "df_clean['Number.of.Engines']=df_clean['Number.of.Engines'].fillna(1)"
   ]
  },
  {
   "cell_type": "code",
   "execution_count": 45,
   "id": "1700d6a1",
   "metadata": {},
   "outputs": [
    {
     "data": {
      "text/plain": [
       "Reciprocating      29926\n",
       "Turbo Shaft         1868\n",
       "Turbo Prop          1858\n",
       "Turbo Fan            863\n",
       "Unknown              334\n",
       "Turbo Jet            237\n",
       "None                  16\n",
       "Electric               8\n",
       "NONE                   2\n",
       "Hybrid Rocket          1\n",
       "LR                     1\n",
       "UNK                    1\n",
       "Geared Turbofan        1\n",
       "Name: Engine.Type, dtype: int64"
      ]
     },
     "execution_count": 45,
     "metadata": {},
     "output_type": "execute_result"
    }
   ],
   "source": [
    "#cleangin the engine.type column\n",
    "df_clean['Engine.Type'].value_counts()"
   ]
  },
  {
   "cell_type": "code",
   "execution_count": 46,
   "id": "9b56010f",
   "metadata": {},
   "outputs": [],
   "source": [
    "#Will only keep the most common and turbo engines\n",
    "df_clean['Engine.Type']=df_clean['Engine.Type'].map(str)\n",
    "df_clean['Engine.Type']=df_clean['Engine.Type'].apply(lambda x: x if x in ['Reciprocating', 'Turbo Shaft', 'Turbo Prop', 'Turbo Fan', 'Turbo Jet']else None)"
   ]
  },
  {
   "cell_type": "code",
   "execution_count": 47,
   "id": "03020305",
   "metadata": {},
   "outputs": [],
   "source": [
    "#dropping the NaN values of the engine type column\n",
    "df_clean=df_clean.dropna(subset=['Engine.Type'])"
   ]
  },
  {
   "cell_type": "code",
   "execution_count": 48,
   "id": "0632bb43",
   "metadata": {},
   "outputs": [
    {
     "data": {
      "text/plain": [
       "(34752, 17)"
      ]
     },
     "execution_count": 48,
     "metadata": {},
     "output_type": "execute_result"
    }
   ],
   "source": [
    "#checking the new size of the new subset\n",
    "#34,752 rows and 17 columns\n",
    "df_clean.shape"
   ]
  },
  {
   "cell_type": "code",
   "execution_count": 52,
   "id": "1809f744",
   "metadata": {},
   "outputs": [],
   "source": [
    "#creating a column with the total of all injuries, fatal, serious and minor\n",
    "df_clean['Total.Injuries']=df_clean['Total.Fatal.Injuries']+df_clean['Total.Serious.Injuries']+df_clean['Total.Minor.Injuries']"
   ]
  },
  {
   "cell_type": "code",
   "execution_count": 53,
   "id": "cc9302d4",
   "metadata": {},
   "outputs": [
    {
     "data": {
      "text/plain": [
       "Event.Month               0\n",
       "Event.Year                0\n",
       "Location                  0\n",
       "Country                   0\n",
       "Make                      0\n",
       "Model                     0\n",
       "Purpose.of.flight         0\n",
       "Weather.Condition         0\n",
       "Aircraft.Category         0\n",
       "Aircraft.damage           0\n",
       "Injury.Severity           0\n",
       "Total.Fatal.Injuries      0\n",
       "Total.Serious.Injuries    0\n",
       "Total.Minor.Injuries      0\n",
       "Total.Uninjured           0\n",
       "Number.of.Engines         0\n",
       "Engine.Type               0\n",
       "Total.Injuries            0\n",
       "dtype: int64"
      ]
     },
     "execution_count": 53,
     "metadata": {},
     "output_type": "execute_result"
    }
   ],
   "source": [
    "#checking for the clean data set\n",
    "df_clean.isna().sum()"
   ]
  },
  {
   "cell_type": "markdown",
   "id": "115c7064",
   "metadata": {
    "scrolled": true
   },
   "source": [
    "# Data Analysis"
   ]
  },
  {
   "cell_type": "markdown",
   "id": "a4b8b23f",
   "metadata": {},
   "source": [
    "The goal of this project is for the company to get the safest aircraft to start a new type of businness.\n",
    "In order to get this list of the safest aircraft I would like to get a variable that will give me the output of that list of aircraft."
   ]
  },
  {
   "cell_type": "code",
   "execution_count": 54,
   "id": "329f3a3d",
   "metadata": {
    "scrolled": true
   },
   "outputs": [
    {
     "data": {
      "text/html": [
       "<div>\n",
       "<style scoped>\n",
       "    .dataframe tbody tr th:only-of-type {\n",
       "        vertical-align: middle;\n",
       "    }\n",
       "\n",
       "    .dataframe tbody tr th {\n",
       "        vertical-align: top;\n",
       "    }\n",
       "\n",
       "    .dataframe thead th {\n",
       "        text-align: right;\n",
       "    }\n",
       "</style>\n",
       "<table border=\"1\" class=\"dataframe\">\n",
       "  <thead>\n",
       "    <tr style=\"text-align: right;\">\n",
       "      <th></th>\n",
       "      <th>Event.Month</th>\n",
       "      <th>Event.Year</th>\n",
       "      <th>Location</th>\n",
       "      <th>Country</th>\n",
       "      <th>Make</th>\n",
       "      <th>Model</th>\n",
       "      <th>Purpose.of.flight</th>\n",
       "      <th>Weather.Condition</th>\n",
       "      <th>Aircraft.Category</th>\n",
       "      <th>Aircraft.damage</th>\n",
       "      <th>Injury.Severity</th>\n",
       "      <th>Total.Fatal.Injuries</th>\n",
       "      <th>Total.Serious.Injuries</th>\n",
       "      <th>Total.Minor.Injuries</th>\n",
       "      <th>Total.Uninjured</th>\n",
       "      <th>Number.of.Engines</th>\n",
       "      <th>Engine.Type</th>\n",
       "      <th>Total.Injuries</th>\n",
       "    </tr>\n",
       "  </thead>\n",
       "  <tbody>\n",
       "    <tr>\n",
       "      <th>83022</th>\n",
       "      <td>9.0</td>\n",
       "      <td>2018.0</td>\n",
       "      <td>Porterville, Ca</td>\n",
       "      <td>United States</td>\n",
       "      <td>Eggleston Daniel</td>\n",
       "      <td>S-18 THORP</td>\n",
       "      <td>Personal</td>\n",
       "      <td>VMC</td>\n",
       "      <td>Airplane</td>\n",
       "      <td>Substantial</td>\n",
       "      <td>Non-Fatal</td>\n",
       "      <td>0.0</td>\n",
       "      <td>1.0</td>\n",
       "      <td>0.0</td>\n",
       "      <td>0.0</td>\n",
       "      <td>1.0</td>\n",
       "      <td>Reciprocating</td>\n",
       "      <td>1.0</td>\n",
       "    </tr>\n",
       "    <tr>\n",
       "      <th>67089</th>\n",
       "      <td>8.0</td>\n",
       "      <td>2009.0</td>\n",
       "      <td>Holland, Ma</td>\n",
       "      <td>United States</td>\n",
       "      <td>Piper</td>\n",
       "      <td>J5A</td>\n",
       "      <td>Personal</td>\n",
       "      <td>VMC</td>\n",
       "      <td>Airplane</td>\n",
       "      <td>Substantial</td>\n",
       "      <td>Non-Fatal</td>\n",
       "      <td>0.0</td>\n",
       "      <td>0.0</td>\n",
       "      <td>0.0</td>\n",
       "      <td>2.0</td>\n",
       "      <td>1.0</td>\n",
       "      <td>Reciprocating</td>\n",
       "      <td>0.0</td>\n",
       "    </tr>\n",
       "    <tr>\n",
       "      <th>52659</th>\n",
       "      <td>5.0</td>\n",
       "      <td>2002.0</td>\n",
       "      <td>Vancouver, Wa</td>\n",
       "      <td>United States</td>\n",
       "      <td>Grumman American</td>\n",
       "      <td>AA-5A</td>\n",
       "      <td>Personal</td>\n",
       "      <td>VMC</td>\n",
       "      <td>Airplane</td>\n",
       "      <td>Substantial</td>\n",
       "      <td>Non-Fatal</td>\n",
       "      <td>1.0</td>\n",
       "      <td>0.0</td>\n",
       "      <td>0.0</td>\n",
       "      <td>3.0</td>\n",
       "      <td>1.0</td>\n",
       "      <td>Reciprocating</td>\n",
       "      <td>1.0</td>\n",
       "    </tr>\n",
       "    <tr>\n",
       "      <th>54492</th>\n",
       "      <td>4.0</td>\n",
       "      <td>2003.0</td>\n",
       "      <td>Salt Lake City, Ut</td>\n",
       "      <td>United States</td>\n",
       "      <td>Mitsubishi</td>\n",
       "      <td>MU-2B-60</td>\n",
       "      <td>Personal</td>\n",
       "      <td>VMC</td>\n",
       "      <td>Airplane</td>\n",
       "      <td>Substantial</td>\n",
       "      <td>Non-Fatal</td>\n",
       "      <td>1.0</td>\n",
       "      <td>0.0</td>\n",
       "      <td>0.0</td>\n",
       "      <td>1.0</td>\n",
       "      <td>2.0</td>\n",
       "      <td>Turbo Prop</td>\n",
       "      <td>1.0</td>\n",
       "    </tr>\n",
       "    <tr>\n",
       "      <th>47452</th>\n",
       "      <td>11.0</td>\n",
       "      <td>1999.0</td>\n",
       "      <td>Lake City, Co</td>\n",
       "      <td>United States</td>\n",
       "      <td>Bellanca</td>\n",
       "      <td>17-30</td>\n",
       "      <td>Personal</td>\n",
       "      <td>VMC</td>\n",
       "      <td>Airplane</td>\n",
       "      <td>Destroyed</td>\n",
       "      <td>Fatal(2)</td>\n",
       "      <td>2.0</td>\n",
       "      <td>0.0</td>\n",
       "      <td>0.0</td>\n",
       "      <td>0.0</td>\n",
       "      <td>1.0</td>\n",
       "      <td>Reciprocating</td>\n",
       "      <td>2.0</td>\n",
       "    </tr>\n",
       "  </tbody>\n",
       "</table>\n",
       "</div>"
      ],
      "text/plain": [
       "       Event.Month  Event.Year            Location        Country  \\\n",
       "83022          9.0      2018.0     Porterville, Ca  United States   \n",
       "67089          8.0      2009.0         Holland, Ma  United States   \n",
       "52659          5.0      2002.0       Vancouver, Wa  United States   \n",
       "54492          4.0      2003.0  Salt Lake City, Ut  United States   \n",
       "47452         11.0      1999.0       Lake City, Co  United States   \n",
       "\n",
       "                   Make       Model Purpose.of.flight Weather.Condition  \\\n",
       "83022  Eggleston Daniel  S-18 THORP          Personal               VMC   \n",
       "67089             Piper         J5A          Personal               VMC   \n",
       "52659  Grumman American       AA-5A          Personal               VMC   \n",
       "54492        Mitsubishi    MU-2B-60          Personal               VMC   \n",
       "47452          Bellanca       17-30          Personal               VMC   \n",
       "\n",
       "      Aircraft.Category Aircraft.damage Injury.Severity  Total.Fatal.Injuries  \\\n",
       "83022          Airplane     Substantial       Non-Fatal                   0.0   \n",
       "67089          Airplane     Substantial       Non-Fatal                   0.0   \n",
       "52659          Airplane     Substantial       Non-Fatal                   1.0   \n",
       "54492          Airplane     Substantial       Non-Fatal                   1.0   \n",
       "47452          Airplane       Destroyed        Fatal(2)                   2.0   \n",
       "\n",
       "       Total.Serious.Injuries  Total.Minor.Injuries  Total.Uninjured  \\\n",
       "83022                     1.0                   0.0              0.0   \n",
       "67089                     0.0                   0.0              2.0   \n",
       "52659                     0.0                   0.0              3.0   \n",
       "54492                     0.0                   0.0              1.0   \n",
       "47452                     0.0                   0.0              0.0   \n",
       "\n",
       "       Number.of.Engines    Engine.Type  Total.Injuries  \n",
       "83022                1.0  Reciprocating             1.0  \n",
       "67089                1.0  Reciprocating             0.0  \n",
       "52659                1.0  Reciprocating             1.0  \n",
       "54492                2.0     Turbo Prop             1.0  \n",
       "47452                1.0  Reciprocating             2.0  "
      ]
     },
     "execution_count": 54,
     "metadata": {},
     "output_type": "execute_result"
    }
   ],
   "source": [
    "#starting the data analysis by checking a sample subset\n",
    "df_clean.sample(5)"
   ]
  },
  {
   "cell_type": "code",
   "execution_count": 56,
   "id": "11cb589d",
   "metadata": {
    "scrolled": false
   },
   "outputs": [
    {
     "data": {
      "text/plain": [
       "(396, 18)"
      ]
     },
     "execution_count": 56,
     "metadata": {},
     "output_type": "execute_result"
    }
   ],
   "source": [
    "#creating a subset of only the best aircraft to purchase\n",
    "#total injuries needs to be 0, injuries include the sum of: serious ,fatal and minor injuries.\n",
    "best_aircraft= df_clean[(df_clean['Total.Injuries']== 0) & (df_clean['Aircraft.damage']== 'Minor')]\n",
    "best_aircraft.shape #checking the size of this new subset"
   ]
  },
  {
   "cell_type": "code",
   "execution_count": null,
   "id": "e48a5fd0",
   "metadata": {},
   "outputs": [],
   "source": [
    "best_aircraft_subset.to_csv('best_aircraft.csv', index=False)"
   ]
  },
  {
   "cell_type": "code",
   "execution_count": null,
   "id": "cd0f2d04",
   "metadata": {},
   "outputs": [],
   "source": [
    "best_aircraft_subset['Make'].value_counts() #checking the best make of aircrafts based on this data analysis"
   ]
  },
  {
   "cell_type": "code",
   "execution_count": null,
   "id": "56fe6cf1",
   "metadata": {},
   "outputs": [],
   "source": [
    "#Getting subset samples to get a just examples for the graphs (trial)\n",
    "subset_sample = subset.sample(n=10, replace=True)\n",
    "best_aircraft_sample=best_aircraft_subset.sample(n=10, replace=True)"
   ]
  },
  {
   "cell_type": "code",
   "execution_count": null,
   "id": "ceaa9f03",
   "metadata": {
    "scrolled": false
   },
   "outputs": [],
   "source": [
    "#bar plot TRIAL the total injuries per make, on a sample set of 10 rows.\n",
    "sns.barplot(x=subset_sample['Make'], y=subset_sample['Total.Injuries'], data=df)\n",
    "plt.show()\n"
   ]
  },
  {
   "cell_type": "markdown",
   "id": "15722d63",
   "metadata": {},
   "source": [
    "# Conclusions"
   ]
  },
  {
   "cell_type": "markdown",
   "id": "b496742b",
   "metadata": {},
   "source": [
    "To be completed..."
   ]
  },
  {
   "cell_type": "markdown",
   "id": "8e164951",
   "metadata": {},
   "source": [
    "## Limitations"
   ]
  },
  {
   "cell_type": "markdown",
   "id": "7e95f72b",
   "metadata": {},
   "source": []
  },
  {
   "cell_type": "markdown",
   "id": "917c3897",
   "metadata": {},
   "source": [
    "## Recommendations"
   ]
  },
  {
   "cell_type": "markdown",
   "id": "d2471771",
   "metadata": {},
   "source": []
  },
  {
   "cell_type": "markdown",
   "id": "a632b44c",
   "metadata": {},
   "source": [
    "## Next Steps"
   ]
  },
  {
   "cell_type": "markdown",
   "id": "ae4a2200",
   "metadata": {},
   "source": []
  },
  {
   "cell_type": "markdown",
   "id": "b1ad08d8",
   "metadata": {},
   "source": []
  }
 ],
 "metadata": {
  "kernelspec": {
   "display_name": "Python (learn-env)",
   "language": "python",
   "name": "learn-env"
  },
  "language_info": {
   "codemirror_mode": {
    "name": "ipython",
    "version": 3
   },
   "file_extension": ".py",
   "mimetype": "text/x-python",
   "name": "python",
   "nbconvert_exporter": "python",
   "pygments_lexer": "ipython3",
   "version": "3.8.5"
  }
 },
 "nbformat": 4,
 "nbformat_minor": 5
}
