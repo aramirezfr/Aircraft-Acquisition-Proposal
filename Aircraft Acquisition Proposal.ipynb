{
 "cells": [
  {
   "cell_type": "markdown",
   "id": "fe3f5cb1",
   "metadata": {},
   "source": [
    "# Business Understanding"
   ]
  },
  {
   "cell_type": "markdown",
   "id": "ae5adb91",
   "metadata": {},
   "source": []
  },
  {
   "cell_type": "markdown",
   "id": "45616241",
   "metadata": {},
   "source": [
    "# Data Understanding"
   ]
  },
  {
   "cell_type": "markdown",
   "id": "825a62e4",
   "metadata": {},
   "source": []
  },
  {
   "cell_type": "markdown",
   "id": "80bd5fcb",
   "metadata": {},
   "source": [
    "## Exploratory Data Analysis"
   ]
  },
  {
   "cell_type": "markdown",
   "id": "3fb5c9ed",
   "metadata": {},
   "source": []
  },
  {
   "cell_type": "markdown",
   "id": "520f8a0d",
   "metadata": {},
   "source": [
    "# Conclusions"
   ]
  },
  {
   "cell_type": "markdown",
   "id": "779c3d93",
   "metadata": {},
   "source": []
  },
  {
   "cell_type": "markdown",
   "id": "755bb661",
   "metadata": {},
   "source": [
    "## Limitations"
   ]
  },
  {
   "cell_type": "markdown",
   "id": "2130e0ef",
   "metadata": {},
   "source": []
  },
  {
   "cell_type": "markdown",
   "id": "c275447d",
   "metadata": {},
   "source": [
    "## Recommendations"
   ]
  },
  {
   "cell_type": "markdown",
   "id": "85fddec6",
   "metadata": {},
   "source": []
  },
  {
   "cell_type": "markdown",
   "id": "31651ab3",
   "metadata": {},
   "source": [
    "## Next Steps"
   ]
  },
  {
   "cell_type": "markdown",
   "id": "c99a018e",
   "metadata": {},
   "source": []
  },
  {
   "cell_type": "markdown",
   "id": "0764618e",
   "metadata": {},
   "source": []
  }
 ],
 "metadata": {
  "kernelspec": {
   "display_name": "Python (learn-env)",
   "language": "python",
   "name": "learn-env"
  },
  "language_info": {
   "codemirror_mode": {
    "name": "ipython",
    "version": 3
   },
   "file_extension": ".py",
   "mimetype": "text/x-python",
   "name": "python",
   "nbconvert_exporter": "python",
   "pygments_lexer": "ipython3",
   "version": "3.8.5"
  }
 },
 "nbformat": 4,
 "nbformat_minor": 5
}
